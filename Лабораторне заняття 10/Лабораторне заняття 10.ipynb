{
 "cells": [
  {
   "cell_type": "markdown",
   "metadata": {},
   "source": [
    "# Лабораторне заняття №10"
   ]
  },
  {
   "cell_type": "markdown",
   "metadata": {},
   "source": [
    "# Закон великих чисел, метод Монте-Карло, центральна гранична теорема"
   ]
  },
  {
   "cell_type": "markdown",
   "metadata": {},
   "source": [
    "Деякі задачі взяті з підручника\n",
    "\n",
    "*Збірник задач з теорії ймовірностей та математичної статистики: навч. посібник / В.В. Голомозий, М.В. Карташов, К.В. Ральченко. – К.: Видавничо-поліграфічний центр «Київський університет», 2015. – 366 с.*\n",
    "\n",
    "Електронну версію збірника можна знайти [за посиланням](http://probability.univ.kiev.ua/userfiles/kmv/gkr-problems.pdf)."
   ]
  },
  {
   "cell_type": "code",
   "execution_count": 1,
   "metadata": {
    "collapsed": true
   },
   "outputs": [],
   "source": [
    "import numpy as np\n",
    "import matplotlib.pyplot as plt"
   ]
  },
  {
   "cell_type": "markdown",
   "metadata": {},
   "source": [
    "## 1 Закон великих чисел (посилений)"
   ]
  },
  {
   "cell_type": "markdown",
   "metadata": {},
   "source": [
    "Нехай $(\\xi_n, n \\geq 1)$ &mdash; н.о.р.в.в., $E[\\xi_1] = \\mu$.\n",
    "Тоді\n",
    "$$\n",
    "\\frac{\\xi_1 + \\ldots + \\xi_n}{n} \\to \\mu, \\qquad n \\to \\infty, \\quad \\text{м.н.}\n",
    "$$\n",
    "Позначимо також $S_n = \\xi_1 + \\ldots + \\xi_n$."
   ]
  },
  {
   "cell_type": "markdown",
   "metadata": {},
   "source": [
    "### 1.1 Розподіл Бернуллі"
   ]
  },
  {
   "cell_type": "markdown",
   "metadata": {},
   "source": [
    "Нехай $(\\xi_n, n \\geq 1)$ &mdash; н.о.р.в.в., де $\\xi_n \\sim Bernoulli(p), n \\geq 1$.\n",
    "\n",
    "Зобразіть графічно збіжність із закону великих чисел для кожного параметра $p = 0.05, 0.25, 0.5, 0.75, 0.95$.\n",
    "\n",
    "Позначимо $S_n = \\xi_1 + \\ldots + \\xi_n$.\n",
    "\n",
    "1. Зобразіть графік функції $\\frac{S_n}{n}$ в залежності від $n = 1, \\ldots, 1000$ для кожного $p$.\n",
    "2. Додайте горизонтальну пряму, яка відповідає значенню, до якого прямує вираз $\\frac{S_n}{n}$.\n",
    "\n",
    "**Зауваження.** При розв'язанні даної задачі зручно використовувати функцію `numpy.cumsum` або відповідний метод."
   ]
  },
  {
   "cell_type": "code",
   "execution_count": 1,
   "metadata": {},
   "outputs": [],
   "source": [
    "# Місце для Вашого коду\n",
    "\n"
   ]
  },
  {
   "cell_type": "markdown",
   "metadata": {},
   "source": [
    "#### 1.1.1 Функція `numpy.cumsum`"
   ]
  },
  {
   "cell_type": "markdown",
   "metadata": {},
   "source": [
    "Більш детальна інформація про функцію `numpy.cumsum` в [документації](https://docs.scipy.org/doc/numpy/reference/generated/numpy.cumsum.html)."
   ]
  },
  {
   "cell_type": "code",
   "execution_count": 2,
   "metadata": {},
   "outputs": [
    {
     "name": "stdout",
     "output_type": "stream",
     "text": [
      "[0 1 2 3 4 5 6 7 8 9]\n",
      "[ 0  1  3  6 10 15 21 28 36 45]\n",
      "[ 0  1  3  6 10 15 21 28 36 45]\n"
     ]
    }
   ],
   "source": [
    "a = np.arange(10)\n",
    "print(a)\n",
    "print(np.cumsum(a)) # as a NumPy function\n",
    "print(a.cumsum()) # as a NumPy array method"
   ]
  },
  {
   "cell_type": "code",
   "execution_count": 4,
   "metadata": {},
   "outputs": [
    {
     "name": "stdout",
     "output_type": "stream",
     "text": [
      "[[0 1 2 3 4]\n",
      " [5 6 7 8 9]]\n",
      "[ 0  1  3  6 10 15 21 28 36 45]\n",
      "[[ 0  1  2  3  4]\n",
      " [ 5  7  9 11 13]]\n",
      "[[ 0  1  3  6 10]\n",
      " [ 5 11 18 26 35]]\n"
     ]
    }
   ],
   "source": [
    "a = a.reshape((2,5)) # reshape vector to a 2x5 matrix\n",
    "print(a)\n",
    "print(a.cumsum()) # matrix will flatten back to a vector\n",
    "print(a.cumsum(axis=0)) # cumulative sum over rows for each column\n",
    "print(a.cumsum(axis=1)) # cumulative sum over columns for each row"
   ]
  },
  {
   "cell_type": "markdown",
   "metadata": {},
   "source": [
    "### 1.2 Експоненційний розподіл"
   ]
  },
  {
   "cell_type": "markdown",
   "metadata": {},
   "source": [
    "Нехай $(\\xi_n, n \\geq 1)$ &mdash; н.о.р.в.в., де $\\xi_n \\sim Exp(\\lambda), n \\geq 1$.\n",
    "\n",
    "Зобразіть графічно збіжність із закону великих чисел для кожного параметра $\\lambda = 0.5, 1, 2, 5$.\n",
    "\n",
    "Позначимо $S_n = \\xi_1 + \\ldots + \\xi_n$.\n",
    "\n",
    "1. Зобразіть графік функції $\\frac{S_n}{n}$ в залежності від $n = 1, \\ldots, 1000$ для кожного $\\lambda$.\n",
    "2. Додайте горизонтальну пряму, яка відповідає значенню, до якого прямує вираз $\\frac{S_n}{n}$.\n",
    "\n",
    "**Зауваження.** При розв'язанні даної задачі зручно використовувати функцію `numpy.cumsum` або відповідний метод."
   ]
  },
  {
   "cell_type": "code",
   "execution_count": 2,
   "metadata": {},
   "outputs": [],
   "source": [
    "# Місце для Вашого коду\n",
    "\n"
   ]
  },
  {
   "cell_type": "markdown",
   "metadata": {},
   "source": [
    "### 1.3 Задача 1.23.12"
   ]
  },
  {
   "cell_type": "markdown",
   "metadata": {},
   "source": [
    "Випадкові величини $(\\xi_n, n \\geq 1)$\n",
    "незалежні, однаково розподілені, $E[\\xi_1] = 0, D(\\xi_1) = 1$.\n",
    "Довести, що $\\displaystyle \\frac{\\max_{1 \\leq k \\leq n} |\\xi_k|}{\\sqrt{n}} \\xrightarrow{w} 0$.\n",
    "\n",
    "Нехай $\\xi_n \\sim N(0, 1)$.\n",
    "\n",
    "Зобразіть графічно описану в задачі збіжність.\n",
    "\n",
    "1. Зобразіть графік функції $\\displaystyle \\frac{\\max_{1 \\leq k \\leq n} |\\xi_k|}{\\sqrt{n}}$\n",
    "в залежності від $n = 1, \\ldots, 100000$.\n",
    "2. Додайте горизонтальну пряму, яка відповідає значенню, до якого прямує вираз\n",
    "$\\displaystyle \\frac{\\max_{1 \\leq k \\leq n} |\\xi_k|}{\\sqrt{n}}$.\n",
    "3. Виведіть значення цього виразу в точках $n = 10, 100, 1000, 10000, 100000$.\n",
    "4. Зверність увагу на швидкість збіжності.\n",
    "\n",
    "**Зауваження 1.** При розв'язанні даної задачі зручно використовувати функцію `numpy.maximum.accumulate`.\n",
    "\n",
    "**Зауваження 2.** $\\xrightarrow{w}$ означає *слабку збіжність* (від англ. *weak*) або *збіжність за розподілом*.\n",
    "$\\xi_n \\xrightarrow{w} \\xi, n \\to \\infty$, якщо $P(\\xi_n < x) \\to P(\\xi < x), n \\to \\infty$,\n",
    "в усіх точках неперервності функції розподілу випадкової величини $\\xi$."
   ]
  },
  {
   "cell_type": "code",
   "execution_count": 3,
   "metadata": {},
   "outputs": [],
   "source": [
    "# Місце для Вашого коду\n",
    "\n"
   ]
  },
  {
   "cell_type": "markdown",
   "metadata": {},
   "source": [
    "#### 1.3.1 Функція `numpy.maximum.accumulate`"
   ]
  },
  {
   "cell_type": "markdown",
   "metadata": {},
   "source": [
    "Більш детальна інформація про функцію `numpy.ufunc.accumulate` в [документації](https://docs.scipy.org/doc/numpy-1.10.1/reference/generated/numpy.ufunc.accumulate.html)."
   ]
  },
  {
   "cell_type": "code",
   "execution_count": 41,
   "metadata": {},
   "outputs": [
    {
     "name": "stdout",
     "output_type": "stream",
     "text": [
      "[0 4 6 6 1 5 9 5 8 2]\n",
      "[0 4 6 6 6 6 9 9 9 9]\n"
     ]
    }
   ],
   "source": [
    "a = np.random.randint(10, size=10)\n",
    "print(a)\n",
    "print(np.maximum.accumulate(a))"
   ]
  },
  {
   "cell_type": "code",
   "execution_count": 43,
   "metadata": {},
   "outputs": [
    {
     "name": "stdout",
     "output_type": "stream",
     "text": [
      "[[0 4 6 6 1]\n",
      " [5 9 5 8 2]]\n",
      "[[0 4 6 6 1]\n",
      " [5 9 6 8 2]]\n",
      "[[0 4 6 6 1]\n",
      " [5 9 6 8 2]]\n",
      "[[0 4 6 6 6]\n",
      " [5 9 9 9 9]]\n"
     ]
    }
   ],
   "source": [
    "a = a.reshape((2,5)) # reshape vector to a 2x5 matrix\n",
    "print(a)\n",
    "print(np.maximum.accumulate(a, axis=0)) # maximum over rows for each column\n",
    "print(np.maximum.accumulate(a)) # axis=0 by default\n",
    "print(np.maximum.accumulate(a, axis=1)) # maximum over columns for each row"
   ]
  },
  {
   "cell_type": "markdown",
   "metadata": {},
   "source": [
    "## 2 Метод Монте-Карло"
   ]
  },
  {
   "cell_type": "markdown",
   "metadata": {},
   "source": [
    "Метод Монте-Карло полягає в наближеному обчисленні інтегралів за допомогою випадкових величин.\n",
    "$$\n",
    "\\idotsint_{A} f \\left( \\overrightarrow{x} \\right) \\, d\\overrightarrow{x} \n",
    "= \\idotsint_{\\mathbf{R^d}} f \\left( \\overrightarrow{x} \\right) I_{A} \\left( \\overrightarrow{x} \\right) \\, d\\overrightarrow{x}\n",
    "= \\idotsint_{\\mathbf{R^d}}\n",
    "\\frac{f \\left( \\overrightarrow{x} \\right) I_{A} \\left( \\overrightarrow{x} \\right)}{f_{\\overrightarrow{\\xi}} \\left( \\overrightarrow{x} \\right)}\n",
    "f_{\\overrightarrow{\\xi}} \\left( \\overrightarrow{x} \\right) \\, d\\overrightarrow{x}\n",
    "= E \\left[ \\frac{f \\left( \\overrightarrow{x} \\right) I_{A} \\left( \\overrightarrow{x} \\right)}\n",
    "{f_{\\overrightarrow{\\xi}} \\left( \\overrightarrow{x} \\right)} \\right]\n",
    "\\approx \\frac{1}{n} \\sum_{i=1}^{n} \\frac{f \\left( \\overrightarrow{\\xi}_i \\right) I_{A} \\left( \\overrightarrow{\\xi}_i \\right)}\n",
    "{f_{\\overrightarrow{\\xi}} \\left( \\overrightarrow{\\xi}_i \\right)},\n",
    "$$\n",
    "де $f$ &mdash; деяка функція,\n",
    "$I_B$ &mdash; індикатор множини $B$,\n",
    "$\\overrightarrow{\\xi}, \\overrightarrow{\\xi}_i, i = 1, \\ldots, n$, &mdash; н.о.р.в.в. на множині $C \\supset A$\n",
    "зі щільністю $f_{\\overrightarrow{\\xi}}$.\n",
    "\n",
    "Або, в одномірному випадку,\n",
    "$$\n",
    "\\int_{a}^{b} f(x) \\, dx\n",
    "= \\int_{-\\infty}^{+\\infty} f(x) I_{(a, b)}(x) \\, dx\n",
    "= \\int_{-\\infty}^{+\\infty} \\frac{f(x) I_{(a, b)}(x)}{f_{\\xi}(x)} f_{\\xi}(x) \\, dx\n",
    "= E\\left[ \\frac{f(\\xi) I_{(a, b)}(\\xi)}{f_{\\xi}(\\xi)} \\right]\n",
    "\\approx \\frac{1}{n} \\sum_{i=1}^{n} \\frac{f(\\xi_i) I_{(a, b)}(\\xi_i)}{f_{\\xi}(\\xi_i)},\n",
    "$$\n",
    "де $a, b \\in \\mathbf{R} \\cup \\{-\\infty, +\\infty\\}$,\n",
    "$I_B$ &mdash; індикатор множини $B$,\n",
    "$f$ &mdash; деяка функція,\n",
    "$\\xi, \\xi_i, i = 1, \\ldots, n$, &mdash; н.о.р.в.в. на множині $A \\supset (a, b)$ зі щільністю $f_{\\xi}$.\n",
    "\n",
    "Або\n",
    "$$\n",
    "\\int_{A} f(x) \\, dx\n",
    "= E\\left[ f(\\xi) \\right] m(A)\n",
    "\\approx \\frac{1}{n} \\sum_{i=1}^{n} f(\\xi_i) m(A),\n",
    "$$\n",
    "де $f$ &mdash; деяка функція,\n",
    "$\\xi, \\xi_i, i = 1, \\ldots, n$, &mdash; н.о.р.в.в., рівномірно розподілені на множині $A$."
   ]
  },
  {
   "cell_type": "markdown",
   "metadata": {},
   "source": [
    "### 2.1 Завдання 2.1"
   ]
  },
  {
   "cell_type": "markdown",
   "metadata": {},
   "source": [
    "Порахуйте наближено $\\displaystyle \\int_{0}^{1} x^2 \\, dx$ за допомогою метода Монте-Карло.\n",
    "\n",
    "1. Зобразіть графік функції $\\displaystyle \\frac{1}{n} \\sum_{i=1}^{n} f(\\xi_i) m(A)$\n",
    "в залежності від $n = 1, \\ldots, 1000$.\n",
    "2. Додайте горизонтальну пряму, яка відповідає теоретичному значенню інтеграла, тобто до якого прямує вираз\n",
    "$\\displaystyle \\frac{1}{n} \\sum_{i=1}^{n} f(\\xi_i) m(A)$.\n",
    "\n",
    "**Зауваження 1.** При розв'язанні даної задачі зручно використовувати функцію `numpy.cumsum`.\n",
    "\n",
    "**Зауваження 2.** При розв'язанні даної задачі зручно взяти $\\xi_i \\sim Uniform(0, 1)$."
   ]
  },
  {
   "cell_type": "code",
   "execution_count": 4,
   "metadata": {},
   "outputs": [],
   "source": [
    "# Місце для Вашого коду\n",
    "\n"
   ]
  },
  {
   "cell_type": "markdown",
   "metadata": {},
   "source": [
    "### 2.2 Завдання 2.2"
   ]
  },
  {
   "cell_type": "markdown",
   "metadata": {},
   "source": [
    "Порахуйте наближено $\\displaystyle \\int_{1}^{\\infty} \\frac{1}{x^2} \\, dx$ за допомогою метода Монте-Карло.\n",
    "\n",
    "1. Зобразіть графік функції $\\displaystyle \\frac{1}{n} \\sum_{i=1}^{n} \\frac{f(\\xi_i) I_{(a, b)}(\\xi_i)}{f_{\\xi}(\\xi_i)}$\n",
    "в залежності від $n = 1, \\ldots, 10000$,\n",
    "де $\\xi, \\xi_i \\sim Exp(1)$.\n",
    "2. Зобразіть графік функції $\\displaystyle \\frac{1}{n} \\sum_{i=1}^{n} \\frac{f(\\xi_i) I_{(a, b)}(\\xi_i)}{f_{\\xi}(\\xi_i)}$\n",
    "в залежності від $n = 1, \\ldots, 10000$,\n",
    "де $\\xi, \\xi_i \\sim N(0, 1)$.\n",
    "3. Додайте горизонтальну пряму, яка відповідає теоретичному значенню інтеграла, тобто до якого прямує вираз\n",
    "$\\displaystyle \\frac{1}{n} \\sum_{i=1}^{n} \\frac{f(\\xi_i) I_{(a, b)}(\\xi_i)}{f_{\\xi}(\\xi_i)}$.\n",
    "4. Порівняйте точність наближення з пунктів $1, 2$.\n",
    "\n",
    "**Зауваження 1.** При розв'язанні даної задачі зручно використовувати функцію `numpy.cumsum`.\n",
    "\n",
    "**Зауваження 2.** Замість введення індикатора можна взяти такі $\\xi_i$, що $(\\xi_i - 1) \\sim Exp(1)$.\n",
    "Тобто поставити параметр `loc=1`.\n",
    "Тоді\n",
    "$$\n",
    "\\int_{1}^{\\infty} f(x) \\, dx\n",
    "= \\int_{1}^{\\infty} \\frac{f(x)}{f_{\\xi}(x)} f_{\\xi}(x) \\, dx\n",
    "= E\\left[ \\frac{f(\\xi)}{f_{\\xi}(\\xi)} \\right]\n",
    "\\approx \\frac{1}{n} \\sum_{i=1}^{n} \\frac{f(\\xi_i)}{f_{\\xi}(\\xi_i)}.\n",
    "$$"
   ]
  },
  {
   "cell_type": "code",
   "execution_count": 5,
   "metadata": {},
   "outputs": [],
   "source": [
    "# Місце для Вашого коду\n",
    "\n"
   ]
  },
  {
   "cell_type": "markdown",
   "metadata": {},
   "source": [
    "## 3 Центральна гранична теорема"
   ]
  },
  {
   "cell_type": "markdown",
   "metadata": {},
   "source": [
    "Нехай $(\\xi_n, n \\geq 1)$ &mdash; н.о.р.в.в., $E[\\xi_1] = \\mu, D(\\xi_1) = \\sigma^2$.\n",
    "Позначимо також $S_n = \\xi_1 + \\ldots + \\xi_n$.\n",
    "Тоді\n",
    "$$\n",
    "\\sqrt{n} \\left( \\frac{S_n}{n} - \\mu \\right) = \\frac{1}{\\sqrt{n}} \\sum_{i=1}^{n} (\\xi_i - \\mu) \\to \\zeta,\n",
    "\\qquad n \\to \\infty,\n",
    "$$\n",
    "де $\\zeta \\sim N(0, \\sigma^2)$."
   ]
  },
  {
   "cell_type": "markdown",
   "metadata": {},
   "source": [
    "### 3.1 Рівномірний розподіл"
   ]
  },
  {
   "cell_type": "markdown",
   "metadata": {},
   "source": [
    "Нехай $(\\xi_k, k \\geq 1)$ &mdash; н.о.р.в.в., де $\\xi_k \\sim Uniform(0, 1), k \\geq 1$.\n",
    "\n",
    "Зобразіть графічно збіжність із центральної граничної теореми.\n",
    "\n",
    "Для кожного $n = 1, 2, 3, 4, 5, 10$ зобразіть:\n",
    "- нормовану гістограму $n\\_samples = 10000$ значень виразу\n",
    "$\\displaystyle \\frac{1}{\\sqrt{n}} \\sum_{i=1}^{n} (\\xi_i - \\mu)$, де $\\mu = E[\\xi_1]$;\n",
    "- графік функції щільності $\\zeta \\sim N(0, \\sigma^2)$, де $\\sigma^2 = D(\\xi_1)$.\n",
    "\n",
    "**Зауваження.** Виходить, що для розв'язання задачі необхідно генерувати $(n\\_samples \\cdot n)$ випадкових величин $\\xi_i$.\n",
    "З ними зручно буде працювати у формі матриці розміру $n\\_samples \\times n$.\n",
    "Тоді можна використати функцію `numpy.sum(axis=1)`."
   ]
  },
  {
   "cell_type": "code",
   "execution_count": 6,
   "metadata": {},
   "outputs": [],
   "source": [
    "# Місце для Вашого коду\n",
    "\n"
   ]
  },
  {
   "cell_type": "markdown",
   "metadata": {},
   "source": [
    "### 3.2 Задача 1.23.13"
   ]
  },
  {
   "cell_type": "markdown",
   "metadata": {},
   "source": [
    "Випадкові величини $(\\xi_n, n \\geq 1)$ незалежні, $P(\\xi_n = \\pm 1) = 1/2$.\n",
    "Довести, що\n",
    "$\\displaystyle \\max_{1 \\leq k \\leq n} \\frac{\\xi_1 + \\ldots + \\xi_k}{\\sqrt{n}}\n",
    "\\xrightarrow{w} \\left| \\zeta \\right|, \\quad n \\to \\infty$,\n",
    "де $\\zeta \\sim N(0, 1)$.\n",
    "\n",
    "Зобразіть графічно описану в задачі збіжність.\n",
    "\n",
    "Для кожного $n = 1, 2, 3, 5, 10, 25, 50, 100, 250, 500, 1000, 5000, 10000$ зобразіть:\n",
    "- нормовану гістограму $n\\_samples = 10000$ значень виразу\n",
    "$\\displaystyle \\max_{1 \\leq k \\leq n} \\frac{\\xi_1 + \\ldots + \\xi_k}{\\sqrt{n}}$;\n",
    "- графік функції щільності $\\left| \\zeta \\right|$, де $\\zeta \\sim N(0, 1)$.\n",
    "\n",
    "**Зауваження 1.** Виходить, що для розв'язання задачі необхідно генерувати $(n\\_samples \\cdot n)$ випадкових величин $\\xi_i$.\n",
    "З ними зручно буде працювати у формі матриці розміру $n\\_samples \\times n$.\n",
    "Тоді можна використати функції `numpy.cumsum(axis=1)` та `numpy.max(axis=1)`.\n",
    "\n",
    "**Зауваження 2.** $\\xrightarrow{w}$ означає *слабку збіжність* (від англ. *weak*) або *збіжність за розподілом*.\n",
    "$\\xi_n \\xrightarrow{w} \\xi, n \\to \\infty$, якщо $P(\\xi_n < x) \\to P(\\xi < x), n \\to \\infty$,\n",
    "в усіх точках неперервності функції розподілу випадкової величини $\\xi$.\n",
    "\n",
    "**Зауваження 3.** Якщо $\\zeta \\sim N(0, 1)$, то $\\left| \\zeta \\right| \\sim HalfNorm(0, 1)$."
   ]
  },
  {
   "cell_type": "code",
   "execution_count": 7,
   "metadata": {
    "scrolled": false
   },
   "outputs": [],
   "source": [
    "# Місце для Вашого коду\n",
    "\n"
   ]
  },
  {
   "cell_type": "markdown",
   "metadata": {},
   "source": [
    "### 3.3 Задача 1.23.30"
   ]
  },
  {
   "cell_type": "markdown",
   "metadata": {},
   "source": [
    "Випадкові величини $(\\xi_k, k \\geq 1)$ незалежні та $\\xi_k \\sim Exp(1)$,\n",
    "$\\displaystyle \\widehat{\\mu}_n = \\frac{\\xi_1 + \\ldots + \\xi_n}{n}$.\n",
    "Довести, що\n",
    "$\\displaystyle \\sqrt{n} \\, \\frac{\\widehat{\\mu}_n - 1}{\\sqrt{\\widehat{\\mu}_n}}\n",
    "\\xrightarrow{w} \\zeta \\sim N(0, 1), \\quad n \\to \\infty$.\n",
    "\n",
    "Зобразіть графічно описану в задачі збіжність.\n",
    "\n",
    "Для кожного $n = 1, 2, 3, 5, 10, 25, 50, 100, 200$ зобразіть:\n",
    "- нормовану гістограму $n\\_samples = 10000$ значень виразу\n",
    "$\\displaystyle \\sqrt{n} \\, \\frac{\\widehat{\\mu}_n - 1}{\\sqrt{\\widehat{\\mu}_n}}$;\n",
    "- графік функції щільності $\\zeta \\sim N(0, 1)$.\n",
    "\n",
    "**Зауваження 1.** Виходить, що для розв'язання задачі необхідно генерувати $(n\\_samples \\cdot n)$ випадкових величин $\\xi_i$.\n",
    "З ними зручно буде працювати у формі матриці розміру $n\\_samples \\times n$.\n",
    "Тоді можна використати функції `numpy.sum(axis=1)`.\n",
    "\n",
    "**Зауваження 2.** $\\xrightarrow{w}$ означає *слабку збіжність* (від англ. *weak*) або *збіжність за розподілом*.\n",
    "$\\xi_n \\xrightarrow{w} \\xi, n \\to \\infty$, якщо $P(\\xi_n < x) \\to P(\\xi < x), n \\to \\infty$,\n",
    "в усіх точках неперервності функції розподілу випадкової величини $\\xi$."
   ]
  },
  {
   "cell_type": "code",
   "execution_count": 8,
   "metadata": {
    "scrolled": false
   },
   "outputs": [],
   "source": [
    "# Місце для Вашого коду\n",
    "\n"
   ]
  }
 ],
 "metadata": {
  "kernelspec": {
   "display_name": "Python 3",
   "language": "python",
   "name": "python3"
  },
  "language_info": {
   "codemirror_mode": {
    "name": "ipython",
    "version": 3
   },
   "file_extension": ".py",
   "mimetype": "text/x-python",
   "name": "python",
   "nbconvert_exporter": "python",
   "pygments_lexer": "ipython3",
   "version": "3.7.2"
  }
 },
 "nbformat": 4,
 "nbformat_minor": 1
}
