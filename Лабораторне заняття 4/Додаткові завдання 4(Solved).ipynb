{
 "cells": [
  {
   "cell_type": "markdown",
   "metadata": {},
   "source": [
    "# Додаткові завдання №4"
   ]
  },
  {
   "cell_type": "markdown",
   "metadata": {},
   "source": [
    "## Задача 1.2.15\n",
    "Нехай $\\Omega = {1, 2, \\ldots, 2n}$.\n",
    "Всiм числам приписанi ймовiрностi, пропорцiйнi логарифмам цих чисел.\n",
    "Знайти цi ймовiрностi.\n",
    "Знайти ймовiрнiсть того, що в результатi експерименту з’явиться:\n",
    "1. парне число;\n",
    "2. непарне число."
   ]
  },
  {
   "cell_type": "markdown",
   "metadata": {},
   "source": [
    "### Завдання 1\n",
    "Реалізуйте випадкову величину, описану в умові задачі, за допомогою класу [scipy.stats.rv_discrete](https://docs.scipy.org/doc/scipy/reference/generated/scipy.stats.rv_discrete.html) в залежності від параметра $n$.\n",
    "\n",
    "Створіть дві випадкові величини для:\n",
    "- $n = 10$;\n",
    "- $n = 25$."
   ]
  },
  {
   "cell_type": "markdown",
   "metadata": {},
   "source": [
    "    -- Desided that n is rather to be a parameter of a random value than to make a two separate random values for each n --\n"
   ]
  },
  {
   "cell_type": "code",
   "execution_count": 50,
   "metadata": {},
   "outputs": [],
   "source": [
    "from scipy.stats import rv_discrete\n",
    "import numpy as np\n",
    "import matplotlib.pyplot as plt\n",
    "\n",
    "\n",
    "class lg(rv_discrete):\n",
    "    \n",
    "    def rvs(n, size=1):\n",
    "        res = np.zeros(size)\n",
    "        xk = range(1, 2*n + 1)\n",
    "        pk_ = np.array([np.log(x) for x in xk])\n",
    "        factor = 1/sum(pk_)\n",
    "        pk = factor * pk_\n",
    "        evenProb = sum([pk[i] for i in range(0, 2*n, 2)])\n",
    "        oddProb = sum([pk[i] for i in range(1, 2*n, 2)])\n",
    "        omega = (1, -1)\n",
    "        for i in range(size):\n",
    "            cur = np.random.choice(omega, p=(evenProb, oddProb))\n",
    "            res[i] = cur\n",
    "        return res\n",
    "        \n",
    "    def pmf(k, n):\n",
    "        xk = range(1, 2*n + 1)\n",
    "        pk_ = np.array([np.log(x) for x in xk])\n",
    "        factor = 1/sum(pk_)\n",
    "        pk = factor * pk_\n",
    "        evenProb = sum([pk[i] for i in range(0, 2*n, 2)])\n",
    "        oddProb = sum([pk[i] for i in range(1, 2*n, 2)])\n",
    "        omega = (1, -1)\n",
    "        res = np.zeros(len(k))\n",
    "        for i in range(len(k)):\n",
    "            if k[i] == 1:\n",
    "                res[i] = evenProb\n",
    "            elif k[i] == -1:\n",
    "                res[i] = oddProb\n",
    "        return res        \n",
    "        \n",
    "    def cdf(k, n):\n",
    "        xk = range(1, 2*n + 1)\n",
    "        pk_ = np.array([np.log(x) for x in xk])\n",
    "        factor = 1/sum(pk_)\n",
    "        pk = factor * pk_\n",
    "        evenProb = sum([pk[i] for i in range(0, 2*n, 2)])\n",
    "        oddProb = sum([pk[i] for i in range(1, 2*n, 2)])\n",
    "        omega = (1, -1)\n",
    "        res = np.zeros(len(k))\n",
    "        for i in range(len(k)):\n",
    "            if k[i] < -1:\n",
    "                res[i] = 0\n",
    "            elif  -1 <= k[i] < 1:\n",
    "                res[i] = oddProb\n",
    "            elif k[i] >=1:\n",
    "                res[i] = 1\n",
    "        return res"
   ]
  },
  {
   "cell_type": "markdown",
   "metadata": {},
   "source": [
    "### Завдання 2\n",
    "Зобразіть графічно функцію щільності, функцію розподілу та гістограму $10000$ значень отриманої випадкової величини в залежності від параметра $n$:\n",
    "- $n = 10$;\n",
    "- $n = 25$."
   ]
  },
  {
   "cell_type": "code",
   "execution_count": 60,
   "metadata": {},
   "outputs": [
    {
     "name": "stdout",
     "output_type": "stream",
     "text": [
      "3\n",
      "6\n"
     ]
    },
    {
     "data": {
      "image/png": "[encoded data removed]",
      "text/plain": [
       "<Figure size 1080x720 with 6 Axes>"
      ]
     },
     "metadata": {
      "needs_background": "light"
     },
     "output_type": "display_data"
    }
   ],
   "source": [
    "nVals = (10, 25)\n",
    "plt.subplot(2, 3, 1)\n",
    "x = np.arange(-2, 3, 0.5)\n",
    "\n",
    "# plt.axis((-2, 2, -0.2, 1))\n",
    "\n",
    "f = plt.gcf()\n",
    "f.set_size_inches(15, 10)\n",
    "\n",
    "intg = (i*3 for i in range(1, 3))\n",
    "x = np.arange(-2, 3, 0.5)\n",
    "for i, n in zip(intg, nVals):\n",
    "    y1 = lg.pmf(x, n)\n",
    "    y2 = lg.cdf(x, n)\n",
    "    y3 = lg.rvs(n, size=10_000)\n",
    "    plt.subplot(2, 3, i - 2)\n",
    "    plt.stem(x, y)\n",
    "    plt.subplot(2, 3, i - 1)\n",
    "    plt.plot(x, y2, drawstyle='steps-post')\n",
    "    plt.subplot(2, 3, i)\n",
    "    plt.hist(y3)\n"
   ]
  },
  {
   "cell_type": "markdown",
   "metadata": {},
   "source": [
    "### Завдання 3\n",
    "Напишіть функцію для обрахунку теоретичної (через щільність отриманої випадкової величини) імовірності в залежності від параметра $n$.\n",
    "\n",
    "Виведіть результат для:\n",
    "- $n = 10$;\n",
    "- $n = 25$."
   ]
  },
  {
   "cell_type": "code",
   "execution_count": 61,
   "metadata": {},
   "outputs": [
    {
     "name": "stdout",
     "output_type": "stream",
     "text": [
      "n: 10, odd number prob: 0.5205046299279227, even number prob: 0.47949537007207715\n",
      "n: 25, odd number prob: 0.5073640739858903, even number prob: 0.49263592601410955\n"
     ]
    }
   ],
   "source": [
    "def theor(n):\n",
    "    domain = (-1, 1)\n",
    "    y = lg.pmf(domain, n)\n",
    "    return y[0], y[1]\n",
    "\n",
    "\n",
    "nVals = (10, 25)\n",
    "for n in nVals:\n",
    "    a, b = theor(n)\n",
    "    print(f\"n: {n}, odd number prob: {a}, even number prob: {b}\")"
   ]
  },
  {
   "cell_type": "markdown",
   "metadata": {},
   "source": [
    "### Завдання 4\n",
    "Напишіть функцію для обрахунку еміричної (симулюванням $1000000$ значень отриманої випадкової величини) імовірності в залежності від параметра $n$.\n",
    "\n",
    "Виведіть результат для:\n",
    "- $n = 10$;\n",
    "- $n = 25$."
   ]
  },
  {
   "cell_type": "code",
   "execution_count": 64,
   "metadata": {},
   "outputs": [
    {
     "name": "stdout",
     "output_type": "stream",
     "text": [
      "n: 10, odd number prob: 0.52223, even number prob: 0.47777\n",
      "n: 25, odd number prob: 0.50721, even number prob: 0.49279\n"
     ]
    }
   ],
   "source": [
    "def empyric(n, amt):\n",
    "    y = list(lg.rvs(n, size=amt))\n",
    "    evenAmt = y.count(1)\n",
    "    oddAmt = y.count(-1)\n",
    "    return oddAmt/amt, evenAmt/amt\n",
    "    \n",
    "\n",
    "for n in (10, 25):\n",
    "    a, b = empyric(n, 100_000)\n",
    "    print(f\"n: {n}, odd number prob: {a}, even number prob: {b}\")\n"
   ]
  },
  {
   "cell_type": "code",
   "execution_count": null,
   "metadata": {},
   "outputs": [],
   "source": []
  }
 ],
 "metadata": {
  "kernelspec": {
   "display_name": "Python 3",
   "language": "python",
   "name": "python3"
  },
  "language_info": {
   "codemirror_mode": {
    "name": "ipython",
    "version": 3
   },
   "file_extension": ".py",
   "mimetype": "text/x-python",
   "name": "python",
   "nbconvert_exporter": "python",
   "pygments_lexer": "ipython3",
   "version": "3.7.2"
  }
 },
 "nbformat": 4,
 "nbformat_minor": 1
}
