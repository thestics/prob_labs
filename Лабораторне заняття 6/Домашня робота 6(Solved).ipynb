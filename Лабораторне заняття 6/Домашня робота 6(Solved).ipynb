{
 "cells": [
  {
   "cell_type": "markdown",
   "metadata": {},
   "source": [
    "# Домашня робота №6"
   ]
  },
  {
   "cell_type": "markdown",
   "metadata": {},
   "source": [
    "# Математичне сподівання та дисперсія"
   ]
  },
  {
   "cell_type": "markdown",
   "metadata": {},
   "source": [
    "## 1 Порівняння"
   ]
  },
  {
   "cell_type": "markdown",
   "metadata": {},
   "source": [
    "1. Реалізуйте функцію для підрахунку математичного сподівання випадкової величини $\\xi$, заданої в класі **scipy.stats**, усіма можливими способами:\n",
    "   - за допомогою методу **mean**;\n",
    "   - за допомогою методу **expect**;\n",
    "   - за допомогою методу **stats**.\n",
    "\n",
    "2. Реалізуйте функцію для підрахунку дисперсії випадкової величини $\\xi$, заданої в класі **scipy.stats**, усіма можливими способами:\n",
    "   - за допомогою методу **var**;\n",
    "   - за допомогою методу **expect** та формули для дисперсії \n",
    "$\\mathsf{D}(\\xi) = \\mathsf{E} \\left[ \\left( \\xi - \\mathsf{E}[\\xi] \\right)^2 \\right]$;\n",
    "   - за допомогою методу **expect** та формули для дисперсії\n",
    "$\\mathsf{D}(\\xi) = \\mathsf{E}[\\xi^2] - \\left( \\mathsf{E}[\\xi] \\right)^2$;\n",
    "   - за допомогою методу **stats**.\n",
    "\n",
    "3. Порахуйте математичне сподівання та дисперсію, використовуючи функції з пунктів **1., 2.**, і порівняйте (виведіть різницю) їх із теоретичними значеннями, використовуючи формули з лекцій, для таких випадкових величин:\n",
    "   - $\\xi \\sim Binom(10, 0.4)$ (біноміальний розподіл);\n",
    "   - $\\xi \\sim Geom(0.5)$ (геометричний розподіл);\n",
    "   - $\\xi \\sim Pois(0.6)$ (розподіл Пуассона);\n",
    "   - $\\xi \\sim NBinom(5, 0.4)$ (від'ємний біноміальний розподіл);\n",
    "   - $\\xi \\sim HGeom(20, 7, 12)$ (гіпергеометричний розподіл);\n",
    "   - $\\xi \\sim Unif(0, 1)$ (рівномірний розподіл);\n",
    "   - $\\xi \\sim Exp(0.5)$ (експоненційний (показниковий) розподіл);\n",
    "   - $\\xi \\sim N(0, 1)$ (нормальний розподіл);\n",
    "   - $\\xi \\sim \\Gamma(2)$ (гамма розподіл);\n",
    "   - $\\xi \\sim LogNorm(0, 1)$ (логнормальний розподіл);\n",
    "   - $\\xi \\sim B(2, 1.1)$ (бета розподіл).\n",
    "   \n",
    "   ==============================================================================================\n",
    "   - $\\xi \\sim LogNorm(x, s) \\equiv f(x, s) = \\frac{1}{sx\\sqrt{2\\pi}}\\exp(- \\frac{\\log^2(x)}{2s^2})$\n",
    "   - $ f(0, 1) = \\frac{1}{0*\\sqrt{2\\pi}}\\exp(-\\frac{\\log^2(0)}{2}) $ ???"
   ]
  },
  {
   "cell_type": "code",
   "execution_count": 2,
   "metadata": {},
   "outputs": [
    {
     "name": "stdout",
     "output_type": "stream",
     "text": [
      "distr:      binom, expect: 4.00, mean: 4.00, stats: 4.00\n",
      "distr:       geom, expect: 2.00, mean: 2.00, stats: 2.00\n",
      "distr:    poisson, expect: 0.60, mean: 0.60, stats: 0.60\n",
      "distr:     nbinom, expect: 7.50, mean: 7.50, stats: 7.50\n",
      "distr:  hypergeom, expect: 4.20, mean: 4.20, stats: 4.20\n",
      "distr:    uniform, expect: 0.50, mean: 0.50, stats: 0.50\n",
      "distr:      expon, expect: 1.50, mean: 1.50, stats: 1.50\n",
      "distr:       norm, expect: 0.00, mean: 0.00, stats: 0.00\n",
      "distr:      gamma, expect: 2.00, mean: 2.00, stats: 2.00\n",
      "distr:    lognorm, expect: 2.65, mean: 2.65, stats: 2.65\n",
      "distr:       beta, expect: 0.65, mean: 0.65, stats: 0.65\n",
      "\n",
      "\n",
      "\n",
      "distr:      binom, var: 2.40,  f1: 2.40, f2: 2.40, stats: 2.40\n",
      "distr:       geom, var: 2.00,  f1: 2.00, f2: 2.00, stats: 2.00\n",
      "distr:    poisson, var: 0.60,  f1: 0.60, f2: 0.60, stats: 0.60\n",
      "distr:     nbinom, var: 18.75,  f1: 18.75, f2: 18.75, stats: 18.75\n",
      "distr:  hypergeom, var: 1.15,  f1: 1.15, f2: 1.15, stats: 1.15\n",
      "distr:    uniform, var: 0.08,  f1: 0.08, f2: 0.08, stats: 0.08\n",
      "distr:      expon, var: 1.00,  f1: 1.00, f2: 1.00, stats: 1.00\n",
      "distr:       norm, var: 1.00,  f1: 1.00, f2: 1.00, stats: 1.00\n",
      "distr:      gamma, var: 2.00,  f1: 2.00, f2: 2.00, stats: 2.00\n",
      "distr:    lognorm, var: 4.67,  f1: 4.67, f2: 4.67, stats: 4.67\n",
      "distr:       beta, var: 0.06,  f1: 0.06, f2: 0.06, stats: 0.06\n"
     ]
    }
   ],
   "source": [
    "from scipy.stats import binom, geom, poisson, nbinom, hypergeom, uniform, expon, norm, gamma, lognorm, beta\n",
    "import numpy as np\n",
    "\n",
    "distrs = (binom(10, 0.4), geom(0.5), poisson(0.6), nbinom(5, 0.4), \n",
    "              hypergeom(20, 7, 12), uniform(0, 1), expon(0.5), norm(0, 1), \n",
    "              gamma(2), lognorm(1, 1), beta(2, 1.1))\n",
    "\n",
    "def getExpect():\n",
    "    aliases = ('binom', 'geom', 'poisson', 'nbinom', 'hypergeom', 'uniform', 'expon', 'norm', 'gamma', 'lognorm', 'beta')\n",
    "    for d, name in zip(distrs, aliases):\n",
    "        f = \"distr: {:>10}, expect: {:.2f}, mean: {:.2f}, stats: {:.2f}\"\n",
    "        print(f.format(name, d.expect(lambda x: x), d.mean(), d.stats(moments='m')))\n",
    "    print(\"\\n\\n\")\n",
    "\n",
    "def getVariance():\n",
    "    aliases = ('binom', 'geom', 'poisson', 'nbinom', 'hypergeom', 'uniform', 'expon', 'norm', 'gamma', 'lognorm', 'beta')\n",
    "    for d, name in zip(distrs, aliases):\n",
    "        f = \"distr: {:>10}, var: {:.2f},  f1: {:.2f}, f2: {:.2f}, stats: {:.2f}\"\n",
    "        exi = d.expect(lambda x: x)\n",
    "        exisq = d.expect(lambda x: x**2)\n",
    "        f1 = d.expect(lambda x: (x - exi)**2)\n",
    "        f2 = exisq - exi**2\n",
    "        print(f.format(name, d.var(), f1, f2, d.stats(moments='v')))\n",
    "    \n",
    "    \n",
    "\n",
    "getExpect()\n",
    "getVariance()"
   ]
  },
  {
   "cell_type": "markdown",
   "metadata": {},
   "source": [
    "## 2 Унікальні цифри"
   ]
  },
  {
   "cell_type": "markdown",
   "metadata": {},
   "source": [
    "Нехай випадковим чином вибирають послідовно $n$ цифр (цифри можуть повторюватися, вибірка з поверненням).\n",
    "Нехай тоді випадкова величина $\\xi$ - це кількість унікальних цифр в отриманому наборі.\n",
    "\n",
    "Напишіть функцію для обрахунку математичного сподівання та дисперсії випадкової величини $\\xi$ в залежності від кількості $n$ цифр у наборі методом повного перебору.\n",
    "Виведіть результат для $n = 1, 2, 3, 4, 5, 6, 7.$"
   ]
  },
  {
   "cell_type": "code",
   "execution_count": 3,
   "metadata": {},
   "outputs": [
    {
     "name": "stdout",
     "output_type": "stream",
     "text": [
      "n: 1, expect: 1.000\tn: 1, var: 0.000\n",
      "n: 2, expect: 1.889\tn: 2, var: 0.099\n",
      "n: 3, expect: 2.679\tn: 3, var: 0.243\n",
      "n: 4, expect: 3.381\tn: 4, var: 0.398\n",
      "n: 5, expect: 4.006\tn: 5, var: 0.544\n",
      "n: 6, expect: 4.561\tn: 6, var: 0.670\n",
      "n: 7, expect: 5.054\tn: 7, var: 0.771\n"
     ]
    }
   ],
   "source": [
    "from itertools import product\n",
    "\n",
    "def p(k, sample):\n",
    "    totalAmt = 0\n",
    "    neededAmt = 0\n",
    "    for s in sample:\n",
    "        if len(set(s)) == k:\n",
    "            neededAmt += 1\n",
    "        totalAmt += 1\n",
    "    return neededAmt/totalAmt\n",
    "\n",
    "\n",
    "def expect(func, pkList, xkList):\n",
    "    assert len(pkList) == len(xkList)\n",
    "    return sum([func(xkList[i])*pkList[i] for i in range(len(pkList))])\n",
    "\n",
    "    \n",
    "for n in range(1, 8):\n",
    "    # obviously uneffective, but acceptible for given size\n",
    "    sample = list(product(range(1, 10), repeat=n))    \n",
    "    pkList = [p(k, sample) for k in range(1, n + 1)]  \n",
    "    xkList = list(range(1, n + 1))\n",
    "    f = \"n: {}, {}: {:.3f}\"\n",
    "    exi = expect(lambda x: x, pkList, xkList)\n",
    "    print(f.format(n, \"expect\", exi), end='\\t')\n",
    "    exisq = expect(lambda x: x**2, pkList, xkList)\n",
    "    print(f.format(n, \"var\", exisq - exi**2))\n"
   ]
  },
  {
   "cell_type": "markdown",
   "metadata": {},
   "source": [
    "## 3 Максимальне значення"
   ]
  },
  {
   "cell_type": "markdown",
   "metadata": {},
   "source": [
    "Нехай випадкова величина $\\xi$ - це максимальне значення після $n$ кидків грального кубика.\n",
    "\n",
    "Напишіть функцію для обрахунку математичного сподівання та дисперсії випадкової величини $\\xi$ в залежності від кількості $n$ кидків кубика методом повного перебору.\n",
    "Виведіть результат для $n = 1, 2, 3, 4, 5, 6, 7, 8, 9.$\n",
    "\n",
    "Напишіть теоретичну формулу для математичного сподівання та дисперсії випадкової величини $\\xi$.\n",
    "Порівняйте теоретичні значення з обчисленими повним перебором."
   ]
  },
  {
   "cell_type": "code",
   "execution_count": 9,
   "metadata": {},
   "outputs": [
    {
     "name": "stdout",
     "output_type": "stream",
     "text": [
      "n: 1, expect: 3.500\tn: 1, expect theoretical: 3.500\t\tn: 1, var: 2.917\tn: 1, var theoretical: 2.917\n",
      "n: 2, expect: 4.472\tn: 2, expect theoretical: 4.472\t\tn: 2, var: 1.971\tn: 2, var theoretical: 1.971\n",
      "n: 3, expect: 4.958\tn: 3, expect theoretical: 4.958\t\tn: 3, var: 1.308\tn: 3, var theoretical: 1.308\n",
      "n: 4, expect: 5.245\tn: 4, expect theoretical: 5.245\t\tn: 4, var: 0.910\tn: 4, var theoretical: 0.910\n",
      "n: 5, expect: 5.431\tn: 5, expect theoretical: 5.431\t\tn: 5, var: 0.659\tn: 5, var theoretical: 0.659\n",
      "n: 6, expect: 5.560\tn: 6, expect theoretical: 5.560\t\tn: 6, var: 0.493\tn: 6, var theoretical: 0.493\n",
      "n: 7, expect: 5.654\tn: 7, expect theoretical: 5.654\t\tn: 7, var: 0.377\tn: 7, var theoretical: 0.377\n",
      "n: 8, expect: 5.724\tn: 8, expect theoretical: 5.724\t\tn: 8, var: 0.294\tn: 8, var theoretical: 0.294\n",
      "n: 9, expect: 5.778\tn: 9, expect theoretical: 5.778\t\tn: 9, var: 0.233\tn: 9, var theoretical: 0.233\n"
     ]
    }
   ],
   "source": [
    "def getPk(sample):          # test sample here is much larger, previous approach wont even work at all, \n",
    "    totalAmt = 0            # so a little bit of optimization provided\n",
    "    neededAmt = [0 for i in range(6)]  # neededAmt[i] = amount of cases where max dice value is (i+1)\n",
    "    for s in sample:\n",
    "        indx = max(s) - 1\n",
    "        neededAmt[indx] += 1\n",
    "        totalAmt += 1\n",
    "    return list(np.array(neededAmt)/totalAmt)\n",
    "\n",
    "\n",
    "def theor_expectation(n):\n",
    "    upper = -sum(np.arange(1, 6)**n) + 6**(n + 1)\n",
    "    lower = 6**n\n",
    "    return upper/lower\n",
    "\n",
    "def theor_variance(n):\n",
    "    upper = sum([-(2*k + 1) * k**n for k in range(1, 6)]) + 6**(n + 2)\n",
    "    lower = 6**n\n",
    "    first = upper/lower\n",
    "    second = theor_expectation(n)**2\n",
    "    return first - second\n",
    "\n",
    "for n in range(1, 10):\n",
    "    sample = product(range(1, 7), repeat=n)\n",
    "    pkList = getPk(sample)\n",
    "    xkList = list(range(1, 7))\n",
    "    f = \"n: {}, {}: {:.3f}\"\n",
    "    exi = expect(lambda x: x, pkList, xkList)\n",
    "    print(f.format(n, \"expect\", exi), end='\\t')\n",
    "    print(f.format(n, \"expect theoretical\", theor_expectation(n)), end='\\t\\t')\n",
    "    exisq = expect(lambda x: x**2, pkList, xkList)\n",
    "    print(f.format(n, \"var\", exisq - exi**2), end='\\t')\n",
    "    print(f.format(n, \"var theoretical\", theor_variance(n)))\n",
    "    \n"
   ]
  },
  {
   "cell_type": "markdown",
   "metadata": {},
   "source": [
    "## 4 Сума значень"
   ]
  },
  {
   "cell_type": "markdown",
   "metadata": {},
   "source": [
    "Нехай випадкова величина $\\xi$ - це сума значень після $n$ кидків грального кубика (сума цифр, що випали).\n",
    "\n",
    "Напишіть функцію для обрахунку математичного сподівання та дисперсії випадкової величини $\\xi$ в залежності від кількості $n$ кидків кубика методом повного перебору.\n",
    "Виведіть результат для $n = 1, 2, 3, 5, 7, 8.$\n",
    "\n",
    "Напишіть теоретичну формулу для математичного сподівання та дисперсії випадкової величини $\\xi$.\n",
    "Порівняйте теоретичні значення з обчисленими повним перебором."
   ]
  },
  {
   "cell_type": "code",
   "execution_count": 11,
   "metadata": {},
   "outputs": [
    {
     "name": "stdout",
     "output_type": "stream",
     "text": [
      "n: 1, expect: 3.500\tn: 1, expect theor: 3.500\tn: 1, var: 2.917\tn: 1, var theor: 2.917\n",
      "n: 2, expect: 7.000\tn: 2, expect theor: 7.000\tn: 2, var: 5.833\tn: 2, var theor: 5.833\n",
      "n: 3, expect: 10.500\tn: 3, expect theor: 10.500\tn: 3, var: 8.750\tn: 3, var theor: 8.750\n",
      "n: 4, expect: 14.000\tn: 4, expect theor: 14.000\tn: 4, var: 11.667\tn: 4, var theor: 11.667\n",
      "n: 5, expect: 17.500\tn: 5, expect theor: 17.500\tn: 5, var: 14.583\tn: 5, var theor: 14.583\n",
      "n: 6, expect: 21.000\tn: 6, expect theor: 21.000\tn: 6, var: 17.500\tn: 6, var theor: 17.500\n",
      "n: 7, expect: 24.500\tn: 7, expect theor: 24.500\tn: 7, var: 20.417\tn: 7, var theor: 20.417\n",
      "n: 8, expect: 28.000\tn: 8, expect theor: 28.000\tn: 8, var: 23.333\tn: 8, var theor: 23.333\n"
     ]
    }
   ],
   "source": [
    "def getPk2(n, sample):\n",
    "    totalAmt = 0\n",
    "    neededAmt = [0 for i in range(5*n + 1)]    # minimal sum after n tosses: n\n",
    "    for s in sample:                           # maximum sum after n tosses: 6*n, hence total possible results: 6n-n = 5n\n",
    "        totalAmt += 1\n",
    "        indx = sum(s) - n\n",
    "        neededAmt[indx] += 1\n",
    "    return list(np.array(neededAmt)/totalAmt)\n",
    "\n",
    "\n",
    "def theor_expect2(n):\n",
    "    return 3.5*n\n",
    "\n",
    "def theor_variance2(m):\n",
    "    return (35*n)/12\n",
    "    \n",
    "\n",
    "for n in range(1, 9):\n",
    "    sample = product(range(1, 7), repeat=n)\n",
    "    pkList = getPk2(n, sample)\n",
    "    xkList = list(range(n, 6*n + 1))\n",
    "    f = \"n: {}, {}: {:.3f}\"\n",
    "    exi = expect(lambda x: x, pkList, xkList)\n",
    "    print(f.format(n, \"expect\", exi), end='\\t')\n",
    "    print(f.format(n, \"expect theor\", theor_expect2(n)), end='\\t')\n",
    "    exisq = expect(lambda x: x**2, pkList, xkList)\n",
    "    print(f.format(n, \"var\", exisq - exi**2), end='\\t')\n",
    "    print(f.format(n, \"var theor\", theor_variance2(n)))\n"
   ]
  },
  {
   "cell_type": "markdown",
   "metadata": {},
   "source": [
    "## 5 Парадокс днів народження"
   ]
  },
  {
   "cell_type": "markdown",
   "metadata": {},
   "source": [
    "Нехай маємо $n$ людей.\n",
    "Їх дні народження припадають на один з 12 місяців.\n",
    "Нехай тоді випадкова величина $\\xi$ - це кількість співпадінь місяців народжень серед цих $n$ людей.\n",
    "\n",
    "Напишіть функцію для обрахунку математичного сподівання та дисперсії випадкової величини $\\xi$ в залежності від кількості $n$ людей методом повного перебору.\n",
    "Виведіть результат для $n = 1, 2, 3, 4, 5, 6.$\n",
    "\n",
    "Для якого $n$ виконується $\\mathsf{E}\\left[ \\xi \\right] \\geq 1$?\n",
    "\n",
    "**Зауваження.** Кількість співпадінь означає кількість однакових пар. Наприклад,\n",
    "- у наборі $\\{ 1, 1, 2, 3 \\}$ є одна пара;\n",
    "- у наборі $\\{ 1, 1, 1, 3 \\}$ є три пари;\n",
    "- у наборі $\\{ 1, 1, 1, 1 \\}$ є шість пар.\n"
   ]
  },
  {
   "cell_type": "code",
   "execution_count": 94,
   "metadata": {},
   "outputs": [
    {
     "name": "stdout",
     "output_type": "stream",
     "text": [
      "n: 1, expect: 0.000\tn: 1, var: 0.000\n",
      "n: 2, expect: 0.083\tn: 2, var: 0.076\n",
      "n: 3, expect: 0.250\tn: 3, var: 0.229\n",
      "n: 4, expect: 0.500\tn: 4, var: 0.458\n",
      "n: 5, expect: 0.833\tn: 5, var: 0.764\n",
      "n: 6, expect: 1.250\tn: 6, var: 1.146\n"
     ]
    }
   ],
   "source": [
    "def combN2(n):\n",
    "    return (n*(n - 1))//2\n",
    "\n",
    "def getPk3(n, sample):\n",
    "    totalAmt = 0\n",
    "    # neededAmt[i] - amount of samples with i pairs\n",
    "    neededAmt = [0 for i in range(combN2(n) + 1)]  # at most c(n, 2) pairs with same birth month\n",
    "    for s in sample:\n",
    "        totalAmt += 1\n",
    "        temp = list(s)\n",
    "        tempAmt = 0\n",
    "        # here we will count amount of pairs in sample\n",
    "        s = set(temp)\n",
    "        if len(s) == len(temp):  # if there were no removals hence there were no repetitions (pairs)\n",
    "            neededAmt[0] += 1\n",
    "            continue\n",
    "        for j in set(temp):  # for items which are present in sample\n",
    "            val = temp.count(j)\n",
    "            if val > 1:  # if amount of equal more than 2 (at least one pair present)\n",
    "                tempAmt += combN2(val)  # increment amount of pairs in sample by c(n, val)\n",
    "        neededAmt[tempAmt] += 1\n",
    "    return list(np.array(neededAmt) / totalAmt)\n",
    "        \n",
    "    \n",
    "for n in range(1, 7):\n",
    "    sample = product(range(1, 13), repeat=n)\n",
    "    pkList = getPk3(n, sample)\n",
    "    xkList = list(range(0, combN2(n) + 1))\n",
    "    f = \"n: {}, {}: {:.3f}\"\n",
    "    exi = expect(lambda x: x, pkList, xkList)\n",
    "    print(f.format(n, \"expect\", exi), end='\\t')\n",
    "    exisq = expect(lambda x: x**2, pkList, xkList)\n",
    "    print(f.format(n, \"var\", exisq - exi**2))\n",
    "\n",
    "\n",
    "\n",
    "\n"
   ]
  },
  {
   "cell_type": "markdown",
   "metadata": {},
   "source": [
    "Asked condition of $E[\\xi] \\ge 1$ is true for $n \\ge 6$"
   ]
  },
  {
   "cell_type": "code",
   "execution_count": null,
   "metadata": {},
   "outputs": [],
   "source": []
  }
 ],
 "metadata": {
  "kernelspec": {
   "display_name": "Python 3",
   "language": "python",
   "name": "python3"
  },
  "language_info": {
   "codemirror_mode": {
    "name": "ipython",
    "version": 3
   },
   "file_extension": ".py",
   "mimetype": "text/x-python",
   "name": "python",
   "nbconvert_exporter": "python",
   "pygments_lexer": "ipython3",
   "version": "3.7.2"
  }
 },
 "nbformat": 4,
 "nbformat_minor": 1
}
