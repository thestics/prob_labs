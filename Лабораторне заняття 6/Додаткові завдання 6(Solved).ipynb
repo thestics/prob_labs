{
 "cells": [
  {
   "cell_type": "markdown",
   "metadata": {},
   "source": [
    "# Додаткові завдання №6"
   ]
  },
  {
   "cell_type": "markdown",
   "metadata": {},
   "source": [
    "## 1 Парадокс днів народження"
   ]
  },
  {
   "cell_type": "markdown",
   "metadata": {},
   "source": [
    "Нехай маємо $n$ людей.\n",
    "Їх дні народження припадають на один з 12 місяців.\n",
    "Нехай тоді випадкова величина $\\xi$ - це кількість співпадінь місяців народжень серед цих $n$ людей.\n",
    "\n",
    "Напишіть функцію для обрахунку щільності випадкової величини $\\xi$ (тобто усі ймовірності $\\mathsf{P}(\\xi = k)$ для відповідних значень $k$) в залежності від кількості $n$ людей методом повного перебору.\n",
    "Виведіть результат для $n = 1, 2, 3, 4, 5, 6.$\n",
    "\n",
    "Напишіть теоретичні формули для щільності випадкової величини $\\xi$.\n",
    "Порівняйте теоретичні значення з обчисленими повним перебором.\n",
    "\n",
    "Для якого $n$ ймовірність хоча б одного співпадіння не менша $\\frac{1}{2}$ (тобто $\\mathsf{P}(\\xi > 0) \\geq \\frac{1}{2}$)?\n",
    "\n",
    "**Зауваження.** Кількість співпадінь означає кількість однакових пар. Наприклад,\n",
    "- у наборі $\\{ 1, 1, 2, 3 \\}$ є одна пара;\n",
    "- у наборі $\\{ 1, 1, 1, 3 \\}$ є три пари;\n",
    "- у наборі $\\{ 1, 1, 1, 1 \\}$ є шість пар."
   ]
  },
  {
   "cell_type": "code",
   "execution_count": 7,
   "metadata": {},
   "outputs": [
    {
     "name": "stdout",
     "output_type": "stream",
     "text": [
      "n: 1, p(xi > 0): 0\n",
      "n: 2, p(xi > 0): 0.08333333333333333\n",
      "n: 3, p(xi > 0): 0.2361111111111111\n",
      "n: 4, p(xi > 0): 0.4270833333333333\n",
      "n: 5, p(xi > 0): 0.6180555555555557\n"
     ]
    }
   ],
   "source": [
    "import numpy as np\n",
    "from itertools import product\n",
    "\n",
    "\n",
    "def expect(func, pkList, xkList):\n",
    "    assert len(pkList) == len(xkList)\n",
    "    return sum([func(xkList[i])*pkList[i] for i in range(len(pkList))])\n",
    "\n",
    "\n",
    "def combN2(n):\n",
    "    return (n*(n - 1))//2\n",
    "\n",
    "\n",
    "def getPk3(n, sample):\n",
    "    totalAmt = 0\n",
    "    # neededAmt[i] - amount of samples with i pairs\n",
    "    neededAmt = [0 for i in range(combN2(n) + 1)]  # at most c(n, 2) pairs with same birth month\n",
    "    for s in sample:\n",
    "        totalAmt += 1\n",
    "        temp = list(s)\n",
    "        tempAmt = 0\n",
    "        \n",
    "        # here we will count amount of pairs in sample\n",
    "        s = set(temp)\n",
    "        \n",
    "        # if there were no removals hence there were no repetitions (pairs)\n",
    "        if len(s) == len(temp):  \n",
    "            neededAmt[0] += 1\n",
    "            continue\n",
    "            \n",
    "        # else for items which are present in sample\n",
    "        for j in set(temp):  \n",
    "            val = temp.count(j)\n",
    "            if val > 1:  # if amount of equal more than 2 (at least one pair present)\n",
    "                tempAmt += combN2(val)  # increment amount of pairs in sample by c(n, val)\n",
    "        neededAmt[tempAmt] += 1\n",
    "    return list(np.array(neededAmt) / totalAmt)\n",
    "\n",
    "\n",
    "\n",
    "for n in range(1, 6):\n",
    "    sample = product(range(1, 13), repeat=n)  # all possible combinations of months (12) n times\n",
    "    pkList = getPk3(n, sample)\n",
    "#     print(sum(pkList))\n",
    "    print(f\"n: {n}, p(xi > 0):\", sum(pkList[1:]))    # p(xi=1) + p(xi=2) + ... + pi(xi=n) = p(xi > 0)"
   ]
  },
  {
   "cell_type": "code",
   "execution_count": null,
   "metadata": {},
   "outputs": [],
   "source": []
  }
 ],
 "metadata": {
  "kernelspec": {
   "display_name": "Python 3",
   "language": "python",
   "name": "python3"
  },
  "language_info": {
   "codemirror_mode": {
    "name": "ipython",
    "version": 3
   },
   "file_extension": ".py",
   "mimetype": "text/x-python",
   "name": "python",
   "nbconvert_exporter": "python",
   "pygments_lexer": "ipython3",
   "version": "3.7.2"
  }
 },
 "nbformat": 4,
 "nbformat_minor": 1
}
