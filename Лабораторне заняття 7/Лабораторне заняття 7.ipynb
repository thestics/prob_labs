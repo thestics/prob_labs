{
 "cells": [
  {
   "cell_type": "markdown",
   "metadata": {},
   "source": [
    "# Лабораторне заняття №7"
   ]
  },
  {
   "cell_type": "markdown",
   "metadata": {},
   "source": [
    "# Перетворення випадкових величин\n",
    "На цьому занятті ми реалізуємо перетворення випадкових величин із розглянутих раніше розподілів, які реалізовані в бібліотеці [SciPy](https://docs.scipy.org/doc/scipy/reference/).\n",
    "Із цього пакету будемо використовувати клас [scipy.stats](https://docs.scipy.org/doc/scipy/reference/stats.html), в якому реалізована велика кількість імовірнісних розподілів і статистичних функцій.\n",
    "\n",
    "Для візуалізації використаємо бібліотеку [Matplotlib](https://matplotlib.org/)."
   ]
  },
  {
   "cell_type": "code",
   "execution_count": 1,
   "metadata": {
    "collapsed": true
   },
   "outputs": [],
   "source": [
    "import numpy as np\n",
    "import matplotlib.pyplot as plt"
   ]
  },
  {
   "cell_type": "markdown",
   "metadata": {},
   "source": [
    "## 1 Квантильне перетворення"
   ]
  },
  {
   "cell_type": "markdown",
   "metadata": {},
   "source": [
    "Справедливі два твердження про квантильне перетворення:\n",
    "1. Нехай випадкова величина $\\xi$ має неперервну функцію розподілу $F$.\n",
    "Тоді випадкова величина $\\eta = F(\\xi)$ має стандартний рівномірний розподіл:\n",
    "$F(\\xi) \\sim Unif(0, 1)$.\n",
    "2. Нехай $F$ - неперервна функція розподілу,\n",
    "випадкова величина $\\eta$ має стандартний рівномірний розподіл: $\\eta \\sim Unif(0, 1)$.\n",
    "Тоді випадкова величина $\\xi = F^{-1}(\\eta)$ має функцію розподілу $F$."
   ]
  },
  {
   "cell_type": "markdown",
   "metadata": {},
   "source": [
    "### 1.1 Експоненційний розподіл"
   ]
  },
  {
   "cell_type": "markdown",
   "metadata": {},
   "source": [
    "Реалізуйте перше твердження про квантильне перетворення для випадкової величини $\\xi \\sim Exp(1)$:\n",
    "- згенеруйте $n = 10000$ значень випадкової величини $\\xi$;\n",
    "- отримайте $n = 10000$ значень випадкової величини $F(\\xi)$;\n",
    "- намалюйте нормовану гістограму отриманих $n = 10000$ значень випадкової величини $F(\\xi)$;\n",
    "- намалюйте щільність стандартного рівномірного розподілу на тому ж графіку.\n",
    "\n",
    "Порівняйте форму нормованої гістограми та функції щільності.\n",
    "\n",
    "Що відбувається при збільшенні (зменшенні) кількості випадкових значень $n$?"
   ]
  },
  {
   "cell_type": "code",
   "execution_count": 17,
   "metadata": {},
   "outputs": [
    {
     "data": {
      "image/png": "[encoded data removed]",
      "text/plain": [
       "<Figure size 432x288 with 1 Axes>"
      ]
     },
     "metadata": {
      "needs_background": "light"
     },
     "output_type": "display_data"
    },
    {
     "data": {
      "image/png": "[encoded data removed]",
      "text/plain": [
       "<Figure size 432x288 with 1 Axes>"
      ]
     },
     "metadata": {
      "needs_background": "light"
     },
     "output_type": "display_data"
    }
   ],
   "source": [
    "from scipy.stats import expon, uniform\n",
    "import numpy as np\n",
    "import matplotlib.pyplot as plt\n",
    "\n",
    "exp = expon(1)\n",
    "un = uniform(0, 1)\n",
    "n = 100_000\n",
    "\n",
    "rvs1 = exp.rvs(size=n)\n",
    "rvs2 = exp.pdf(rvs1)\n",
    "\n",
    "x = np.arange(0, 1.1, 0.1)\n",
    "\n",
    "# plt.plot(x, exp.pdf(x), c='r')\n",
    "plt.hist(rvs1, density=True, rwidth=0.9, bins=30)\n",
    "plt.show()\n",
    "plt.plot(x, un.pdf(x), c='r')\n",
    "plt.hist(rvs2, density=True, rwidth=0.9, bins=30)\n",
    "plt.show()\n",
    "\n",
    "\n"
   ]
  },
  {
   "cell_type": "markdown",
   "metadata": {},
   "source": [
    "Реалізуйте друге твердження про квантильне перетворення для випадкової величини $\\xi \\sim Exp(1)$:\n",
    "- згенеруйте $n = 10000$ значень випадкової величини $\\eta \\sim Unif(0, 1)$;\n",
    "- обчисліть функцію обернену до функції розподілу випадкової величини $\\xi$;\n",
    "- отримайте $n = 10000$ значень випадкової величини $F^{-1}(\\eta)$;\n",
    "- намалюйте нормовану гістограму отриманих $n = 10000$ значень випадкової величини $F^{-1}(\\eta)$;\n",
    "- намалюйте щільність випадкової величини $\\xi$ на тому ж графіку.\n",
    "\n",
    "Порівняйте форму нормованої гістограми та функції щільності.\n",
    "\n",
    "Що відбувається при збільшенні (зменшенні) кількості випадкових значень $n$?"
   ]
  },
  {
   "cell_type": "code",
   "execution_count": 31,
   "metadata": {},
   "outputs": [
    {
     "data": {
      "image/png": "[encoded data removed]",
      "text/plain": [
       "<Figure size 432x288 with 1 Axes>"
      ]
     },
     "metadata": {
      "needs_background": "light"
     },
     "output_type": "display_data"
    },
    {
     "data": {
      "image/png": "[encoded data removed]",
      "text/plain": [
       "<Figure size 432x288 with 1 Axes>"
      ]
     },
     "metadata": {
      "needs_background": "light"
     },
     "output_type": "display_data"
    }
   ],
   "source": [
    "eta = uniform(0, 1)\n",
    "f = lambda x: - np.log(1 - x)\n",
    "rvs3 = eta.rvs(size=n)\n",
    "rvs4 = [f(x) for x in rvs3]\n",
    "\n",
    "plt.hist(rvs3, density=True, rwidth=0.8, bins='auto')\n",
    "plt.show()\n",
    "\n",
    "g = lambda x: np.exp(-x)\n",
    "X = np.arange(0, 12, 0.1)\n",
    "\n",
    "y = [g(x) for x in X]\n",
    "\n",
    "plt.plot(X, y, color='r')\n",
    "plt.hist(rvs4, density=True, rwidth=0.6, bins=30)\n",
    "plt.show()"
   ]
  },
  {
   "cell_type": "markdown",
   "metadata": {},
   "source": [
    "### 1.2 Квантиль"
   ]
  },
  {
   "cell_type": "markdown",
   "metadata": {},
   "source": [
    "Нехай $F$ - функція розпділу деякої випадкової величини $\\xi$, $\\alpha \\in [0, 1]$.\n",
    "\n",
    "Квантиль рівня $\\alpha$ - це таке число $x_{\\alpha}$, що\n",
    "$$F \\left(x_{\\alpha}\\right) = \\mathsf{P}\\left(\\xi < x_{\\alpha}\\right) = \\alpha.$$\n",
    "\n",
    "Інший варіант визначення. Нехай $Q(\\alpha)$ - це квантиль рівня $\\alpha$. Тоді\n",
    "$$Q(\\alpha) = \\inf \\left\\{ x \\in \\mathbb{R} \\, \\colon \\, \\alpha < F(x) \\right\\}.$$\n",
    "\n",
    "Якщо $F$ - неперервна та строго зростає, то\n",
    "$$Q = F^{-1}.$$"
   ]
  },
  {
   "cell_type": "markdown",
   "metadata": {},
   "source": [
    "Для розподілів із класу **scipy.stats** функція квантилю реалізована методом **ppf**."
   ]
  },
  {
   "cell_type": "markdown",
   "metadata": {},
   "source": [
    "Наприклад, для експоненційного розподілу маємо (детальна інформація в [документації](https://docs.scipy.org/doc/scipy/reference/generated/scipy.stats.expon.html)):"
   ]
  },
  {
   "cell_type": "code",
   "execution_count": 98,
   "metadata": {},
   "outputs": [
    {
     "name": "stdout",
     "output_type": "stream",
     "text": [
      "[0.         0.10536052 0.22314355 0.35667494 0.51082562 0.69314718\n",
      " 0.91629073 1.2039728  1.60943791 2.30258509        inf]\n",
      "[0.  0.1 0.2 0.3 0.4 0.5 0.6 0.7 0.8 0.9 1. ]\n"
     ]
    }
   ],
   "source": [
    "from scipy.stats import expon\n",
    "\n",
    "q = np.arange(0, 1.1, 0.1)\n",
    "f_q = expon.ppf(q, loc=0, scale=1)\n",
    "print(f_q)\n",
    "\n",
    "qq = expon.cdf(f_q, loc=0, scale=1)\n",
    "print(qq)"
   ]
  },
  {
   "cell_type": "markdown",
   "metadata": {},
   "source": [
    "Для випадкової величини $\\xi \\sim Exp(1)$ застосуйте метод **ppf** до згенерованих раніше $n = 10000$ значень випадкової величини $\\eta \\sim Unif(0, 1)$.\n",
    "Порівняйте ці значення з отриманими раніше $n = 10000$ значеннями випадкової величини $F^{-1}(\\eta)$ за допомогою оберненої функції розподілу, яку Ви обчислювали."
   ]
  },
  {
   "cell_type": "code",
   "execution_count": 105,
   "metadata": {},
   "outputs": [
    {
     "name": "stdout",
     "output_type": "stream",
     "text": [
      "Number of different values = 137\n",
      "Number of values that differ more than 10^{-10} = 0\n"
     ]
    }
   ],
   "source": [
    "print(\"Number of different values = {}\".format(sum(f_eta_rvs != xi.ppf(eta_rvs))))\n",
    "print(\"Number of values that differ more than 10^{} = {}\".format(\"{-10}\", sum(f_eta_rvs - xi.ppf(eta_rvs) > 10**(-10))))"
   ]
  },
  {
   "cell_type": "markdown",
   "metadata": {},
   "source": [
    "Реалізуйте друге твердження про квантильне перетворення для випадкової величини $\\xi \\sim Exp(1)$ з використанням вбудованого методу квантильної функції:\n",
    "- візьміть згенеровані раніше $n = 10000$ значень випадкової величини $\\eta \\sim Unif(0, 1)$;\n",
    "- отримайте $n = 10000$ значень випадкової величини $F^{-1}(\\eta)$ за допомогою методу **ppf**;\n",
    "- намалюйте нормовану гістограму отриманих $n = 10000$ значень випадкової величини $F^{-1}(\\eta)$;\n",
    "- намалюйте щільність випадкової величини $\\xi$ на тому ж графіку.\n",
    "\n",
    "Порівняйте даний графік з отриманим раніше."
   ]
  },
  {
   "cell_type": "code",
   "execution_count": 13,
   "metadata": {},
   "outputs": [
    {
     "data": {
      "image/png": "[encoded data removed]",
      "text/plain": [
       "<Figure size 432x288 with 1 Axes>"
      ]
     },
     "metadata": {
      "needs_background": "light"
     },
     "output_type": "display_data"
    }
   ],
   "source": [
    "from scipy.stats import uniform, expon\n",
    "import numpy as np\n",
    "import matplotlib.pyplot as plt\n",
    "\n",
    "\n",
    "\n",
    "exp = expon(1)\n",
    "eta = uniform(0, 1)\n",
    "n = 10_000\n",
    "rvs = eta.rvs(size=n)\n",
    "q_rvs = exp.ppf(rvs)\n",
    "plt.hist(q_rvs, density=True, rwidth=0.9, bins=20)\n",
    "x = np.arange(1, 10, 0.1)\n",
    "y = exp.pdf(x)\n",
    "plt.plot(x, y, 'r')\n",
    "plt.show()\n",
    "\n",
    "\n"
   ]
  },
  {
   "cell_type": "markdown",
   "metadata": {},
   "source": [
    "## 2 Модуль від випадкової величини"
   ]
  },
  {
   "cell_type": "markdown",
   "metadata": {},
   "source": [
    "### 2.1 Нормальний розподіл"
   ]
  },
  {
   "cell_type": "markdown",
   "metadata": {},
   "source": [
    "Розглянемо випадкову величину $\\xi$ зі стандартного нормального розподілу.\n",
    "Тобто $\\xi \\sim N(0, 1)$.\n",
    "\n",
    "1. Згенеруйте $n = 10000$ значень випадкової величини $\\xi$;\n",
    "2. Реалізуйте 2 сабплоти в одному рядку;\n",
    "3. На першому сабплоті намалюйте:\n",
    "   - нормовану гістограму згенерованих $n = 10000$ значень випадкової величини $\\xi$;\n",
    "   - функцію щільності випадкової величини $\\xi$;\n",
    "4. Отримайте $n = 10000$ значень випадкової величини $|\\xi|$ (застосуйте функцію модуль до згенерованих $n = 10000$ значень випадкової величини $\\xi$);\n",
    "5. На другому сабплоті намалюйте:\n",
    "   - нормовану гістограму отриманих $n = 10000$ значень випадкової величини $|\\xi|$;\n",
    "   - функцію щільності випадкової величини $\\xi$;\n",
    "   - функцію щільності випадкової величини $|\\xi|$."
   ]
  },
  {
   "cell_type": "code",
   "execution_count": 4,
   "metadata": {},
   "outputs": [],
   "source": [
    "# Місце для Вашого коду\n",
    "\n"
   ]
  },
  {
   "cell_type": "markdown",
   "metadata": {},
   "source": [
    "### 2.2 Рівномірний розподіл"
   ]
  },
  {
   "cell_type": "markdown",
   "metadata": {},
   "source": [
    "Розглянемо випадкову величину $\\xi$ з рівномірного розподілу на $[-1, 4]$.\n",
    "Тобто $\\xi \\sim Unif(-1, 4)$.\n",
    "\n",
    "1. Згенеруйте $n = 10000$ значень випадкової величини $\\xi$;\n",
    "2. Реалізуйте 2 сабплоти в одному рядку;\n",
    "3. На першому сабплоті намалюйте:\n",
    "   - нормовану гістограму згенерованих $n = 10000$ значень випадкової величини $\\xi$;\n",
    "   - функцію щільності випадкової величини $\\xi$;\n",
    "4. Отримайте $n = 10000$ значень випадкової величини $|\\xi|$ (застосуйте функцію модуль до згенерованих $n = 10000$ значень випадкової величини $\\xi$);\n",
    "5. На другому сабплоті намалюйте:\n",
    "   - нормовану гістограму отриманих $n = 10000$ значень випадкової величини $|\\xi|$;\n",
    "   - функцію щільності випадкової величини $\\xi$;\n",
    "   - функцію щільності випадкової величини $|\\xi|$."
   ]
  },
  {
   "cell_type": "code",
   "execution_count": 5,
   "metadata": {},
   "outputs": [],
   "source": [
    "# Місце для Вашого коду\n",
    "\n"
   ]
  },
  {
   "cell_type": "markdown",
   "metadata": {},
   "source": [
    "### 2.3 Експоненційний розподіл"
   ]
  },
  {
   "cell_type": "markdown",
   "metadata": {},
   "source": [
    "Розглянемо випадкову величину $\\xi$ зі стандартного експоненційного розподілу.\n",
    "Тобто $\\xi \\sim Exp(1)$.\n",
    "\n",
    "1. Згенеруйте $n = 10000$ значень випадкової величини $\\xi$;\n",
    "2. Реалізуйте 2 сабплоти в одному рядку;\n",
    "3. На першому сабплоті намалюйте:\n",
    "   - нормовану гістограму згенерованих $n = 10000$ значень випадкової величини $\\xi$;\n",
    "   - функцію щільності випадкової величини $\\xi$;\n",
    "4. Отримайте $n = 10000$ значень випадкової величини $|\\xi|$ (застосуйте функцію модуль до згенерованих $n = 10000$ значень випадкової величини $\\xi$);\n",
    "5. На другому сабплоті намалюйте:\n",
    "   - нормовану гістограму отриманих $n = 10000$ значень випадкової величини $|\\xi|$;\n",
    "   - функцію щільності випадкової величини $\\xi$;\n",
    "   - функцію щільності випадкової величини $|\\xi|$."
   ]
  },
  {
   "cell_type": "code",
   "execution_count": 6,
   "metadata": {
    "scrolled": true
   },
   "outputs": [],
   "source": [
    "# Місце для Вашого коду\n",
    "\n"
   ]
  },
  {
   "cell_type": "markdown",
   "metadata": {},
   "source": [
    "## 3 Квадрат від випадкової величини"
   ]
  },
  {
   "cell_type": "markdown",
   "metadata": {},
   "source": [
    "### 3.1 Рівномірний розподіл"
   ]
  },
  {
   "cell_type": "markdown",
   "metadata": {},
   "source": [
    "Розглянемо випадкову величину $\\xi$ зі стандартного рівномірного розподілу.\n",
    "Тобто $\\xi \\sim Unif(0, 1)$.\n",
    "\n",
    "1. Згенеруйте $n = 10000$ значень випадкової величини $\\xi$;\n",
    "2. Реалізуйте 2 сабплоти в одному рядку;\n",
    "3. На першому сабплоті намалюйте:\n",
    "   - нормовану гістограму згенерованих $n = 10000$ значень випадкової величини $\\xi$;\n",
    "   - функцію щільності випадкової величини $\\xi$;\n",
    "4. Отримайте $n = 10000$ значень випадкової величини $\\xi^2$ (застосуйте функцію піднесення до квадрата до згенерованих $n = 10000$ значень випадкової величини $\\xi$);\n",
    "5. На другому сабплоті намалюйте:\n",
    "   - нормовану гістограму отриманих $n = 10000$ значень випадкової величини $\\xi^2$;\n",
    "   - функцію щільності випадкової величини $\\xi$;\n",
    "   - функцію щільності випадкової величини $\\xi^2$."
   ]
  },
  {
   "cell_type": "code",
   "execution_count": 7,
   "metadata": {},
   "outputs": [],
   "source": [
    "# Місце для Вашого коду\n",
    "\n"
   ]
  },
  {
   "cell_type": "markdown",
   "metadata": {},
   "source": [
    "### 3.2 Нормальний розподіл"
   ]
  },
  {
   "cell_type": "markdown",
   "metadata": {},
   "source": [
    "Розглянемо випадкову величину $\\xi$ зі стандартного нормального розподілу.\n",
    "Тобто $\\xi \\sim N(0, 1)$.\n",
    "\n",
    "1. Згенеруйте $n = 10000$ значень випадкової величини $\\xi$;\n",
    "2. Реалізуйте 2 сабплоти в одному рядку;\n",
    "3. На першому сабплоті намалюйте:\n",
    "   - нормовану гістограму згенерованих $n = 10000$ значень випадкової величини $\\xi$;\n",
    "   - функцію щільності випадкової величини $\\xi$;\n",
    "4. Отримайте $n = 10000$ значень випадкової величини $\\xi^2$ (застосуйте функцію піднесення до квадрата до згенерованих $n = 10000$ значень випадкової величини $\\xi$);\n",
    "5. На другому сабплоті намалюйте:\n",
    "   - нормовану гістограму отриманих $n = 10000$ значень випадкової величини $\\xi^2$;\n",
    "   - функцію щільності випадкової величини $\\xi$;\n",
    "   - функцію щільності випадкової величини $\\xi^2$;\n",
    "   - функцію щільності випадкової величини $\\eta \\sim \\chi^2_1$;\n",
    "   - функцію щільності випадкової величини $\\eta \\sim \\Gamma(1/2, 1/2)$."
   ]
  },
  {
   "cell_type": "code",
   "execution_count": 8,
   "metadata": {},
   "outputs": [],
   "source": [
    "# Місце для Вашого коду\n",
    "\n"
   ]
  },
  {
   "cell_type": "markdown",
   "metadata": {},
   "source": [
    "## 4 Відсутність пам'яті"
   ]
  },
  {
   "cell_type": "markdown",
   "metadata": {},
   "source": [
    "Розглянемо випадкову величину $\\xi$ зі стандартного експоненційного розподілу.\n",
    "Тобто $\\xi \\sim Exp(1)$.\n",
    "\n",
    "1. Згенеруйте $n = 10000$ значень випадкової величини $\\xi$;\n",
    "2. Реалізуйте 2 сабплоти в одному рядку;\n",
    "3. На першому сабплоті намалюйте:\n",
    "   - нормовану гістограму згенерованих $n = 10000$ значень випадкової величини $\\xi$;\n",
    "   - функцію щільності випадкової величини $\\xi$;\n",
    "4. Отримайте $n = 10000$ значень випадкової величини $\\eta = (\\xi - 1) I_{(\\xi - 1) \\geq 0}$;\n",
    "5. На другому сабплоті намалюйте:\n",
    "   - нормовану гістограму отриманих $n = 10000$ значень випадкової величини $\\eta$;\n",
    "   - функцію щільності випадкової величини $\\xi$."
   ]
  },
  {
   "cell_type": "code",
   "execution_count": 9,
   "metadata": {},
   "outputs": [],
   "source": [
    "# Місце для Вашого коду\n",
    "\n"
   ]
  },
  {
   "cell_type": "markdown",
   "metadata": {
    "collapsed": true
   },
   "source": [
    "## 5 Одиничний квадрат"
   ]
  },
  {
   "cell_type": "markdown",
   "metadata": {},
   "source": [
    "Реалізуйте вадкову величину рівномірно розподілену на одиничному квадраті.\n",
    "Тобто $\\xi = (x, y), \\quad x, y \\sim Unif(0, 1)$."
   ]
  },
  {
   "cell_type": "code",
   "execution_count": 10,
   "metadata": {
    "collapsed": true
   },
   "outputs": [],
   "source": [
    "# Місце для Вашого коду\n",
    "\n"
   ]
  },
  {
   "cell_type": "markdown",
   "metadata": {},
   "source": [
    "Знайдіть функцію щільності випадкової величини $\\xi_1 = x + y$.\n",
    "Намалюйте її разом із нормованою гістограмою випадкової величини $\\xi_1$, отриманою перетвореннями в.в. $x, y$."
   ]
  },
  {
   "cell_type": "code",
   "execution_count": 11,
   "metadata": {},
   "outputs": [],
   "source": [
    "# Місце для Вашого коду\n",
    "\n"
   ]
  },
  {
   "cell_type": "markdown",
   "metadata": {},
   "source": [
    "Знайдіть функцію щільності випадкової величини $\\xi_2 = xy$.\n",
    "Намалюйте її разом із нормованою гістограмою випадкової величини $\\xi_2$, отриманою перетвореннями в.в. $x, y$."
   ]
  },
  {
   "cell_type": "code",
   "execution_count": 12,
   "metadata": {},
   "outputs": [],
   "source": [
    "# Місце для Вашого коду\n",
    "\n"
   ]
  },
  {
   "cell_type": "markdown",
   "metadata": {},
   "source": [
    "Знайдіть функцію щільності випадкової величини $\\xi_3 = \\min (x, y)$.\n",
    "Намалюйте її разом із нормованою гістограмою випадкової величини $\\xi_3$, отриманою перетвореннями в.в. $x, y$."
   ]
  },
  {
   "cell_type": "code",
   "execution_count": 13,
   "metadata": {},
   "outputs": [],
   "source": [
    "# Місце для Вашого коду\n",
    "\n"
   ]
  },
  {
   "cell_type": "code",
   "execution_count": null,
   "metadata": {},
   "outputs": [],
   "source": []
  }
 ],
 "metadata": {
  "kernelspec": {
   "display_name": "Python 3",
   "language": "python",
   "name": "python3"
  },
  "language_info": {
   "codemirror_mode": {
    "name": "ipython",
    "version": 3
   },
   "file_extension": ".py",
   "mimetype": "text/x-python",
   "name": "python",
   "nbconvert_exporter": "python",
   "pygments_lexer": "ipython3",
   "version": "3.7.2"
  }
 },
 "nbformat": 4,
 "nbformat_minor": 1
}
