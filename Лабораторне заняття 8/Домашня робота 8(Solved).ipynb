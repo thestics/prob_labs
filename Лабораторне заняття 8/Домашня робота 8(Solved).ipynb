{
 "cells": [
  {
   "cell_type": "markdown",
   "metadata": {},
   "source": [
    "# Домашня робота №8"
   ]
  },
  {
   "cell_type": "markdown",
   "metadata": {},
   "source": [
    "# Перетворення випадкових величин та векторів"
   ]
  },
  {
   "cell_type": "code",
   "execution_count": 2,
   "metadata": {},
   "outputs": [],
   "source": [
    "import numpy as np\n",
    "import matplotlib.pyplot as plt"
   ]
  },
  {
   "cell_type": "markdown",
   "metadata": {},
   "source": [
    "## 1 Експоненційний розподіл"
   ]
  },
  {
   "cell_type": "markdown",
   "metadata": {},
   "source": [
    "### 1.1 Завдання 1.1"
   ]
  },
  {
   "cell_type": "markdown",
   "metadata": {},
   "source": [
    "Розглянемо дві незалежні випадкові величини $\\xi_1, \\xi_2$ зі стандартного експоненційного розподілу.\n",
    "Тобто $\\xi_1, \\xi_2 \\sim Exp(1)$.\n",
    "\n",
    "Який розподіл має випадкова величина $\\displaystyle \\eta = \\frac{\\xi_1}{\\xi_1 + \\xi_2}$?\n",
    "1. Згенеруйте $n = 10000$ значень випадкових величин $\\xi_1, \\xi_2$;\n",
    "2. Отримайте $n = 10000$ значень випадкової величини $\\eta$;\n",
    "3. Зобразіть на графіку:\n",
    "   - нормовану гістограму отриманих $n = 10000$ значень випадкової величини $\\eta$;\n",
    "   - функцію щільності випадкової величини $\\eta$.\n",
    "\n",
    "**Зауваження.** Передбачається використання теореми про обрахунок щільності функції від випадкової величини (через якобіан оберненого відображення)."
   ]
  },
  {
   "cell_type": "code",
   "execution_count": 12,
   "metadata": {},
   "outputs": [
    {
     "data": {
      "image/png": "[encoded data removed]",
      "text/plain": [
       "<Figure size 576x360 with 1 Axes>"
      ]
     },
     "metadata": {
      "needs_background": "light"
     },
     "output_type": "display_data"
    }
   ],
   "source": [
    "from scipy.stats import expon\n",
    "from functools import partial\n",
    "\n",
    "fig = plt.gcf()\n",
    "fig.set_size_inches(8, 5)\n",
    "\n",
    "n = 1000_000\n",
    "xi1 = expon(0, 1)\n",
    "xi2 = expon(0, 1)\n",
    "\n",
    "xi1_rvs = xi1.rvs(size=n)\n",
    "xi2_rvs = xi2.rvs(size=n)\n",
    "eta = xi1_rvs / (xi1_rvs + xi2_rvs)\n",
    "\n",
    "hist = partial(plt.hist, density=True, rwidth=0.9, bins=30)\n",
    "\n",
    "hist(eta)\n",
    "plt.plot((0, 1), (1, 1), 'r')\n",
    "plt.show()"
   ]
  },
  {
   "cell_type": "markdown",
   "metadata": {},
   "source": [
    "### 1.2 Завдання 1.2"
   ]
  },
  {
   "cell_type": "markdown",
   "metadata": {},
   "source": [
    "Розглянемо дві незалежні випадкові величини $\\xi_1, \\xi_2$ зі стандартного експоненційного розподілу.\n",
    "Тобто $\\xi_1, \\xi_2 \\sim Exp(1)$.\n",
    "\n",
    "Який розподіл має випадкова величина $\\eta = \\xi_1 + \\xi_2$?\n",
    "1. Згенеруйте $n = 10000$ значень випадкових величин $\\xi_1, \\xi_2$;\n",
    "2. Отримайте $n = 10000$ значень випадкової величини $\\eta$;\n",
    "3. Зобразіть на графіку:\n",
    "   - нормовану гістограму отриманих $n = 10000$ значень випадкової величини $\\eta$;\n",
    "   - функцію щільності випадкової величини $\\eta$.\n",
    "\n",
    "**Зауваження.** Передбачається використання теореми про обрахунок щільності суми двох незалежних випадкових величин (через згортку щільностей)."
   ]
  },
  {
   "cell_type": "markdown",
   "metadata": {},
   "source": [
    "$$\n",
    "\\begin{aligned}\n",
    "f_{\\xi_1 + \\xi_2}(x) &= \\int_{-\\infty}^{\\infty}{f_{\\xi_1}(x - y)f_{\\xi_2}(y)dy} \\\\\n",
    "f_{\\xi_1 + \\xi_2}(x) &= \\int_{-\\infty}^{\\infty}{\\mathbb{1}_{[0; +\\infty}(x-y)\\mathbb{1}_{[0; +\\infty}(y)e^{-x + y}e^{-y}dy} \\\\\n",
    "&= e^{x} \\int_{0}^{\\infty}{\\mathbb{1}_{[0; +\\infty}(x-y)dy}\\\\\n",
    "&= e^{x} \\int_{0}^{x}{1dy} \\\\\n",
    "&= x e^x \\sim Г(2)\n",
    "\\end{aligned}\n",
    "$$"
   ]
  },
  {
   "cell_type": "code",
   "execution_count": 13,
   "metadata": {},
   "outputs": [
    {
     "data": {
      "image/png": "[encoded data removed]",
      "text/plain": [
       "<Figure size 432x288 with 1 Axes>"
      ]
     },
     "metadata": {
      "needs_background": "light"
     },
     "output_type": "display_data"
    }
   ],
   "source": [
    "from scipy.stats import gamma\n",
    "\n",
    "ig = plt.gcf()\n",
    "fig.set_size_inches(8, 5)\n",
    "eta = xi1.rvs(size=n) + xi2.rvs(size=n)\n",
    "\n",
    "\n",
    "t = np.arange(0, 15, 0.1)\n",
    "hist(eta)\n",
    "plt.plot(t, gamma.pdf(t, a=2, loc=0), 'r')\n",
    "plt.show()"
   ]
  },
  {
   "cell_type": "markdown",
   "metadata": {},
   "source": [
    "## 2 Нормальний розподіл"
   ]
  },
  {
   "cell_type": "markdown",
   "metadata": {},
   "source": [
    "### 2.1 Завдання 2.1"
   ]
  },
  {
   "cell_type": "markdown",
   "metadata": {},
   "source": [
    "Розглянемо три незалежні випадкові величини $\\xi_1, \\xi_2, \\theta$ такі,\n",
    "що $\\xi_1, \\xi_2 \\sim N(0, 1), \\theta \\sim Uniform(0, 2 \\pi)$.\n",
    "\n",
    "Який розподіл має випадкова величина $\\displaystyle \\zeta = \\xi_1 \\cos \\theta + \\xi_2 \\sin \\theta$?\n",
    "1. Згенеруйте $n = 10000$ значень випадкових величин $\\xi_1, \\xi_2, \\theta$;\n",
    "2. Отримайте $n = 10000$ значень випадкової величини $\\zeta$;\n",
    "3. Зобразіть на графіку:\n",
    "   - нормовану гістограму отриманих $n = 10000$ значень випадкової величини $\\zeta$;\n",
    "   - функцію щільності випадкової величини $\\zeta$.\n",
    "\n",
    "**Зауваження.** Передбачається використання теореми про лінійне перетворення нормальних величин."
   ]
  },
  {
   "cell_type": "code",
   "execution_count": 14,
   "metadata": {},
   "outputs": [
    {
     "data": {
      "image/png": "[encoded data removed]",
      "text/plain": [
       "<Figure size 432x288 with 1 Axes>"
      ]
     },
     "metadata": {
      "needs_background": "light"
     },
     "output_type": "display_data"
    }
   ],
   "source": [
    "from scipy.stats import norm, uniform\n",
    "\n",
    "xi1 = norm(0, 1)\n",
    "xi2 = norm(0, 1)\n",
    "theta = uniform(0, 2*np.pi)\n",
    "\n",
    "xi1_rvs = xi1.rvs(size=n)\n",
    "xi2_rvs = xi2.rvs(size=n)\n",
    "theta_rvs = theta.rvs(size=n)\n",
    "\n",
    "dzeta = xi1_rvs*np.cos(theta_rvs) + xi2_rvs*np.sin(theta_rvs)\n",
    "t = np.arange(-4, 4.1, 0.1)\n",
    "hist(dzeta)\n",
    "plt.plot(t, norm(0, 1).pdf(t), 'r')\n",
    "plt.show()"
   ]
  },
  {
   "cell_type": "markdown",
   "metadata": {},
   "source": [
    "### 2.2 Завдання 2.2"
   ]
  },
  {
   "cell_type": "markdown",
   "metadata": {},
   "source": [
    "Розглянемо дві незалежні випадкові величини $\\xi_1, \\xi_2$ зі стандартного нормального розподілу.\n",
    "Тобто $\\xi_1, \\xi_2 \\sim N(0, 1)$.\n",
    "\n",
    "Які розподіли (щільності) мають випадкові величини $\\displaystyle \\zeta = \\sqrt{\\xi_1^2 + \\xi_2^2}, \\eta = \\arccos \\frac{\\xi_1}{\\zeta}$?\n",
    "1. Згенеруйте $n = 10000$ значень випадкових величин $\\xi_1, \\xi_2$;\n",
    "2. Отримайте $n = 10000$ значень випадкової величини $\\zeta$;\n",
    "3. Отримайте $n = 10000$ значень випадкової величини $\\eta$;\n",
    "4. Зобразіть на графіку:\n",
    "   - нормовану гістограму отриманих $n = 10000$ значень випадкової величини $\\zeta$;\n",
    "   - функцію щільності випадкової величини $\\zeta$;\n",
    "5. Зобразіть на графіку:\n",
    "   - нормовану гістограму отриманих $n = 10000$ значень випадкової величини $\\eta$;\n",
    "   - функцію щільності випадкової величини $\\eta$.\n",
    "\n",
    "**Зауваження 1.** Передбачається використання теореми про обрахунок щільності функції від випадкової величини (через якобіан оберненого відображення).\n",
    "\n",
    "**Зауваження 2.** Насправді, розподіл отриманих значень випадкової величини $\\eta$ буде трохи відрізнятися від порахованого теоретично (будуть інші параметри).\n",
    "Так виходить за рахунок реалізації функції $\\arccos$ (її області значень)."
   ]
  },
  {
   "cell_type": "code",
   "execution_count": 17,
   "metadata": {},
   "outputs": [
    {
     "data": {
      "image/png": "[encoded data removed]",
      "text/plain": [
       "<Figure size 1008x360 with 2 Axes>"
      ]
     },
     "metadata": {
      "needs_background": "light"
     },
     "output_type": "display_data"
    }
   ],
   "source": [
    "fig = plt.gcf()\n",
    "fig.set_size_inches(14, 5)\n",
    "\n",
    "xi1 = norm(0, 1)\n",
    "xi2 = norm(0, 1)\n",
    "\n",
    "xi1_rvs = xi1.rvs(size=n)\n",
    "xi2_rvs = xi2.rvs(size=n)\n",
    "\n",
    "dzeta_rvs = (xi1_rvs**2 + xi2_rvs**2)**0.5\n",
    "eta_rvs = np.arccos(xi1_rvs/dzeta_rvs)\n",
    "\n",
    "plt.subplot(121)\n",
    "hist(dzeta_rvs)\n",
    "x = np.arange(0, 4, 0.1)\n",
    "y = x*np.exp((-x**2)/2)\n",
    "plt.plot(x, y, 'r')\n",
    "\n",
    "plt.subplot(122)\n",
    "hist(eta_rvs)\n",
    "plt.hlines(1/3, 0, 3, 'r')\n",
    "plt.show()"
   ]
  },
  {
   "cell_type": "markdown",
   "metadata": {},
   "source": [
    "## 3 Рівномірний розподіл"
   ]
  },
  {
   "cell_type": "markdown",
   "metadata": {},
   "source": [
    "### 3.1 Завдання 3.1"
   ]
  },
  {
   "cell_type": "markdown",
   "metadata": {},
   "source": [
    "Розглянемо дві незалежні випадкові величини $\\xi_1, \\xi_2$ з рівномірного розподілу на $[-1, 1]$.\n",
    "Тобто $\\xi_1, \\xi_2 \\sim Uniform(-1, 1)$.\n",
    "\n",
    "Який розподіл має випадкова величина $\\eta = \\xi_1 + \\xi_2$?\n",
    "1. Згенеруйте $n = 10000$ значень випадкових величин $\\xi_1, \\xi_2$;\n",
    "2. Отримайте $n = 10000$ значень випадкової величини $\\eta$;\n",
    "3. Зобразіть на графіку:\n",
    "   - нормовану гістограму отриманих $n = 10000$ значень випадкової величини $\\eta$;\n",
    "   - функцію щільності випадкової величини $\\eta$.\n",
    "\n",
    "**Зауваження.** Передбачається використання теореми про обрахунок щільності суми двох незалежних випадкових величин (через згортку щільностей)."
   ]
  },
  {
   "cell_type": "code",
   "execution_count": 26,
   "metadata": {},
   "outputs": [
    {
     "data": {
      "image/png": "[encoded data removed]",
      "text/plain": [
       "<Figure size 432x288 with 1 Axes>"
      ]
     },
     "metadata": {
      "needs_background": "light"
     },
     "output_type": "display_data"
    }
   ],
   "source": [
    "xi = uniform(loc=-1, scale=2)\n",
    "\n",
    "xi1_rvs = xi.rvs(size=n)\n",
    "xi2_rvs = xi.rvs(size=n)\n",
    "\n",
    "etha = xi1_rvs + xi2_rvs\n",
    "\n",
    "hist(etha)\n",
    "plt.plot((-2, 0, 2), (0, 0.5, 0), 'r')\n",
    "plt.show()"
   ]
  },
  {
   "cell_type": "code",
   "execution_count": null,
   "metadata": {},
   "outputs": [],
   "source": []
  }
 ],
 "metadata": {
  "kernelspec": {
   "display_name": "Python 3",
   "language": "python",
   "name": "python3"
  },
  "language_info": {
   "codemirror_mode": {
    "name": "ipython",
    "version": 3
   },
   "file_extension": ".py",
   "mimetype": "text/x-python",
   "name": "python",
   "nbconvert_exporter": "python",
   "pygments_lexer": "ipython3",
   "version": "3.7.2"
  }
 },
 "nbformat": 4,
 "nbformat_minor": 1
}
