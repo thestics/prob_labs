{
 "cells": [
  {
   "cell_type": "markdown",
   "metadata": {},
   "source": [
    "# Додаткові завдання №5"
   ]
  },
  {
   "cell_type": "markdown",
   "metadata": {},
   "source": [
    "## 1 Задача 1.10.10\n",
    "Випадкова величина $\\xi$ має щiльнiсть $p(x) = e^{-2 |x|}$.\n",
    "Обчислити\n",
    "1. $\\mathsf{P}(\\xi < 1)$;\n",
    "2. $\\mathsf{P}(\\xi < 3|\\xi \\geq 2)$;\n",
    "3. $\\mathsf{E}\\xi, \\mathsf{D}\\xi$."
   ]
  },
  {
   "cell_type": "markdown",
   "metadata": {},
   "source": [
    "### 1.1 Завдання 1\n",
    "Реалізуйте випадкову величину $\\xi$ за допомогою класу [scipy.stats.rv_continuous](https://docs.scipy.org/doc/scipy/reference/generated/scipy.stats.rv_continuous.html)."
   ]
  },
  {
   "cell_type": "code",
   "execution_count": 26,
   "metadata": {},
   "outputs": [],
   "source": [
    "from scipy.stats import rv_continuous\n",
    "import numpy as np\n",
    "import matplotlib.pyplot as plt\n",
    "\n",
    "\n",
    "class custom_gen(rv_continuous):\n",
    "    \n",
    "    def _pdf(self, x):\n",
    "        return np.exp(-2*abs(x))\n",
    "\n",
    "xi = custom_gen(name='xi')"
   ]
  },
  {
   "cell_type": "markdown",
   "metadata": {},
   "source": [
    "### 1.2 Завдання 2\n",
    "Зобразіть графічно функцію щільності та функцію розподілу отриманої випадкової величини."
   ]
  },
  {
   "cell_type": "code",
   "execution_count": 30,
   "metadata": {},
   "outputs": [
    {
     "data": {
      "image/png": "[encoded data removed]",
      "text/plain": [
       "<Figure size 720x720 with 3 Axes>"
      ]
     },
     "metadata": {
      "needs_background": "light"
     },
     "output_type": "display_data"
    }
   ],
   "source": [
    "x = np.arange(-3, 3, 0.1)\n",
    "\n",
    "plt.gcf().set_size_inches(10, 10)\n",
    "\n",
    "pdfVals = xi.pdf(x)\n",
    "cdfVals = xi.cdf(x)\n",
    "rvsVals = xi.rvs(size=2000)\n",
    "\n",
    "plt.subplot(3, 1, 1)\n",
    "plt.plot(x, pdfVals)\n",
    "plt.grid(axis='y')\n",
    "plt.subplot(3, 1, 2)\n",
    "plt.plot(x, cdfVals)\n",
    "plt.grid(axis='y')\n",
    "plt.subplot(3, 1, 3)\n",
    "plt.hist(rvsVals, density=True, rwidth=0.9, bins=50)\n",
    "plt.grid(axis='y')\n",
    "plt.show()\n"
   ]
  },
  {
   "cell_type": "markdown",
   "metadata": {},
   "source": [
    "### 1.3 Завдання 3\n",
    "Розв'яжіть задачу за допомогою отриманої випадкової величини та порівняйте результати з теоретично розрахованими."
   ]
  },
  {
   "cell_type": "code",
   "execution_count": 37,
   "metadata": {},
   "outputs": [
    {
     "name": "stdout",
     "output_type": "stream",
     "text": [
      "task 1: 0.9323323583816931\n",
      "task 2: 0.8646647167632358\n",
      "task 3, Expectation: 0.0\n",
      "task 4, Dispersion: 0.49999999999999994\n"
     ]
    }
   ],
   "source": [
    "# 1\n",
    "res1 = xi.cdf(1)\n",
    "print(f\"task 1: {res1}\")\n",
    "\n",
    "# 2\n",
    "res2 = 1 - (1 - xi.cdf(3))/(1 - xi.cdf(2))\n",
    "print(f\"task 2: {res2}\")\n",
    "\n",
    "# 3\n",
    "Exi = xi.expect(lambda x: x)\n",
    "print(f\"task 3, Expectation: {Exi}\")\n",
    "\n",
    "# 4 \n",
    "ExiSquared = xi.expect(lambda x: x**2)\n",
    "res = ExiSquared - Exi**2\n",
    "print(f\"task 4, Dispersion: {res}\")\n"
   ]
  },
  {
   "cell_type": "markdown",
   "metadata": {},
   "source": [
    "## 2 Апроксимація числа $\\pi$ (задача Бюффона)"
   ]
  },
  {
   "cell_type": "markdown",
   "metadata": {},
   "source": [
    "Розглянемо дві паралельні прямі на площині, відстань між якими дорівнює $1$. Не втрачаючи загальності, нехай ці прямі задаються рівностями $y = 0$ та $y = 1$. Кинемо на цю площину голку довжиною $1$ так, що координата по осі $y$ її середини рівномірно розподілена на $[0,1]$, а кут між голкою та віссю $x$ (додатною піввіссю $x$) рівномірно розподілений на $[0, \\pi]$. Тоді ймовірність того, що голка перетне будь-яку з паралельних прямих, дорівнює $2/\\pi$.\n",
    "\n",
    "Реалізуйте функцію емпіричної апроксимації числа $\\pi$ за $n$ симуляцій (кидання $n$ голок). Зобразіть графічно отримані елементи: паралельні прямі та всі голки. Виділіть точки, що належать колу, окремим кольором від інших точок.\n",
    "\n",
    "Виведіть результат функції для:\n",
    "1. $n = 10$\n",
    "2. $n = 100$\n",
    "3. $n = 500$\n",
    "4. $n = 1000$"
   ]
  },
  {
   "cell_type": "code",
   "execution_count": 39,
   "metadata": {},
   "outputs": [
    {
     "name": "stdout",
     "output_type": "stream",
     "text": [
      "n: 10, pi approx: 3.3333333333333335\n",
      "n: 100, pi approx: 2.9850746268656714\n",
      "n: 500, pi approx: 3.012048192771084\n",
      "n: 1000, pi approx: 3.125\n"
     ]
    }
   ],
   "source": [
    "from scipy.stats import uniform\n",
    "\n",
    "\n",
    "def task3(n):\n",
    "    resAmt = 0\n",
    "    for i in range(n):\n",
    "        x, y = uniform.rvs(loc=0, scale=1, size=2)\n",
    "        phi = uniform.rvs(loc=0, scale=np.pi, size=1)\n",
    "        y1 = y + 0.5 * np.sin(phi)\n",
    "        y2 = y - 0.5 * np.sin(phi)\n",
    "        if y1 >= 1 or y2 <= 0:\n",
    "            resAmt += 1\n",
    "    quotient = resAmt/n\n",
    "    pi = 2/quotient\n",
    "    return pi\n",
    "    \n",
    "\n",
    "for n in (10, 100, 500, 1000):\n",
    "    print(f\"n: {n}, pi approx: {task3(n)}\")"
   ]
  },
  {
   "cell_type": "code",
   "execution_count": null,
   "metadata": {},
   "outputs": [],
   "source": []
  }
 ],
 "metadata": {
  "kernelspec": {
   "display_name": "Python 3",
   "language": "python",
   "name": "python3"
  },
  "language_info": {
   "codemirror_mode": {
    "name": "ipython",
    "version": 3
   },
   "file_extension": ".py",
   "mimetype": "text/x-python",
   "name": "python",
   "nbconvert_exporter": "python",
   "pygments_lexer": "ipython3",
   "version": "3.7.2"
  }
 },
 "nbformat": 4,
 "nbformat_minor": 1
}
