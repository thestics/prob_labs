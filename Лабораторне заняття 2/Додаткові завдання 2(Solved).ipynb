{
 "cells": [
  {
   "cell_type": "markdown",
   "metadata": {},
   "source": [
    "# Додаткові завдання №2"
   ]
  },
  {
   "cell_type": "markdown",
   "metadata": {},
   "source": [
    "## 1 Візуалізація емпіричної імовірності\n",
    "Побудуйте графік залежності емпіричної імовірності випадіння герба (HEAD) від кількості підкидань чесної монети (симуляцій).\n",
    "\n",
    "**Зауваження.** Завдання передбачає використання бібліотеки [Matplotlib](https://matplotlib.org/)."
   ]
  },
  {
   "cell_type": "code",
   "execution_count": 6,
   "metadata": {},
   "outputs": [],
   "source": [
    "%matplotlib inline\n",
    "\n",
    "import matplotlib.pyplot as plt\n",
    "import numpy as np"
   ]
  },
  {
   "cell_type": "code",
   "execution_count": 40,
   "metadata": {},
   "outputs": [
    {
     "data": {
      "image/png": "[encoded data removed]",
      "text/plain": [
       "<Figure size 1080x720 with 1 Axes>"
      ]
     },
     "metadata": {
      "needs_background": "light"
     },
     "output_type": "display_data"
    }
   ],
   "source": [
    "omega = (0, 1)\n",
    "\n",
    "n = 10000\n",
    "sample = list(np.random.choice(omega, size=n))\n",
    "\n",
    "f = plt.gcf()\n",
    "f.set_size_inches(15, 10)\n",
    "\n",
    "probVSamt = np.array([sample[:i].count(1)/i for i in range(1, n)])\n",
    "# print(probVSamt)\n",
    "\n",
    "plt.plot(probVSamt, label=\"Relative percentage\")\n",
    "line = plt.plot([0.5 for i in range(1, n)], 'r--', linewidth=0.7, label=\"Precise 50%\")\n",
    "plt.legend()\n",
    "plt.show()"
   ]
  },
  {
   "cell_type": "markdown",
   "metadata": {},
   "source": [
    "## 2 Найбільше число\n",
    "Реалізуйте функцію підрахунку точної (теоретичної) імовірності того, що максимальне число після $n$ кидків різних гральних кубиків із кількістю сторін $f = \\{ f_i \\}_{i = 1}^{n}$ дорівнює $x\\_max$, для таких параметрів:\n",
    "- $f = \\{ 2, 5, 8 \\}, x\\_max = 8$\n",
    "- $f = \\{ 3, 4 \\}, x\\_max = 2$\n",
    "- $f = \\{ 2, 5, 7, 3 \\}, x\\_max = 3$\n",
    "\n",
    "Тобто, якщо $X_i, i = 1, \\ldots, n$, - число на $i$-му кидку кубика, а $X = \\max\\limits_{1 \\leq i \\leq n} X_i$, то потрібно знайти ймовірність $\\textbf{P} \\left( X = x\\_max \\right)$.\n",
    "\n",
    "Підрахуйте також емпіричні ймовірності відповідних подій у випадку $10000$ симуляцій.\n",
    "\n",
    "**Зауваження.** Якщо введені параметри не мають сенсу, то повертати $0$.\n",
    "Наприклад, якщо при $f = \\{ 4, 8, 3 \\}$ вводиться $x\\_max < 1$ або $x\\_max > 8$."
   ]
  },
  {
   "cell_type": "code",
   "execution_count": 67,
   "metadata": {},
   "outputs": [
    {
     "name": "stdout",
     "output_type": "stream",
     "text": [
      "lens: [2, 5, 8], xMax: 8\n",
      "theor: 0.125\n",
      "empyrical: 0.1197\n",
      "lens: [3, 4], xMax: 2\n",
      "theor: 0.25\n",
      "empyrical: 0.2499\n",
      "lens: [2, 3, 5, 7], xMax: 3\n",
      "theor: 0.18095238095238095\n",
      "empyrical: 0.1852\n"
     ]
    }
   ],
   "source": [
    "from itertools import product\n",
    "\n",
    "def theor1(lens: list, xMax):\n",
    "    samples = [tuple(range(1, lens[i] + 1)) for i in range(len(lens))]\n",
    "    allData = product(*samples)\n",
    "    amt = 0\n",
    "    total = 0\n",
    "    for t in allData:\n",
    "        total += 1\n",
    "        if max(t) == xMax:\n",
    "            amt += 1\n",
    "    return amt/total\n",
    "\n",
    "def empyric1(n, lens: list, xMax):\n",
    "    amt = 0\n",
    "    for i in range(n):\n",
    "        sample = [np.random.randint(1, lens[i] + 1) for i in range(len(lens))]\n",
    "        if max(sample) == xMax:\n",
    "            amt +=1\n",
    "    return amt / n\n",
    "\n",
    "\n",
    "\n",
    "lens = ([2, 5, 8], [3, 4], [2, 3, 5, 7])\n",
    "xMax = (8, 2, 3)\n",
    "for l, x in zip(lens, xMax):\n",
    "    print(f\"lens: {l}, xMax: {x}\")\n",
    "    print(\"theor:\", theor1(l, x))\n",
    "    print(\"empyrical:\", empyric1(10_000, l, x))\n",
    "\n",
    "\n"
   ]
  },
  {
   "cell_type": "markdown",
   "metadata": {},
   "source": [
    "## 3 Сума чисел\n",
    "Реалізуйте функцію підрахунку точної (теоретичної) імовірності того, що сума чисел після $n$ кидків різних гральних кубиків із кількістю сторін $f = \\{ f_i \\}_{i = 1}^{n}$ дорівнює $s$, для таких параметрів:\n",
    "- $f = \\{ 3, 4, 5 \\}, s = 13$\n",
    "- $f = \\{ 2, 2 \\}, s = 3$\n",
    "- $f = \\{ 3, 4, 5 \\}, s = 7$\n",
    "\n",
    "Тобто, якщо $X_i, i = 1, \\ldots, n$, - число на $i$-му кидку кубика, а $X = \\sum\\limits_{i = 1}^{n} X_i$, то потрібно знайти ймовірність $\\textbf{P} \\left( X = s \\right)$.\n",
    "\n",
    "Підрахуйте також емпіричні ймовірності відповідних подій у випадку $10000$ симуляцій.\n",
    "\n",
    "**Зауваження.** Якщо введені параметри не мають сенсу, то повертати $0$.\n",
    "Наприклад, якщо при $f = \\{ 4, 6, 3 \\}$ вводиться $s < 3$ або $s > 13$."
   ]
  },
  {
   "cell_type": "code",
   "execution_count": 69,
   "metadata": {},
   "outputs": [
    {
     "name": "stdout",
     "output_type": "stream",
     "text": [
      "l: [3, 4, 5], s: 13\n",
      "theoretical: 0.0\n",
      "empyrical: 0.0\n",
      "l: [2, 2], s: 3\n",
      "theoretical: 0.5\n",
      "empyrical: 0.5058\n",
      "l: [3, 4, 5], s: 7\n",
      "theoretical: 0.18333333333333332\n",
      "empyrical: 0.1751\n"
     ]
    }
   ],
   "source": [
    "def theor2(lens: list, s):\n",
    "    sample = tuple([tuple(range(1, lens[i] + 1)) for i in range(len(lens))])\n",
    "    allData = product(*sample)\n",
    "    total = 0\n",
    "    amt = 0\n",
    "    for t in allData:\n",
    "        total += 1\n",
    "        if sum(t) == s:\n",
    "            amt += 1\n",
    "    return amt/total\n",
    "\n",
    "    \n",
    "def empyric2(n, lens: list, s):\n",
    "    amt = 0\n",
    "    for i in range(n):\n",
    "        sample = tuple([np.random.randint(1, lens[i] + 1) for i in range(len(lens))])\n",
    "        if sum(sample) == s:\n",
    "            amt += 1\n",
    "    return amt/n\n",
    "\n",
    "\n",
    "lens = ([3, 4, 5], [2, 2], [3, 4, 5])\n",
    "sums = (13, 3, 7)\n",
    "\n",
    "for l, s in zip(lens, sums):\n",
    "    print(f\"l: {l}, s: {s}\")\n",
    "    print(\"theoretical:\", theor2(l, s))\n",
    "    print(\"empyrical:\", empyric2(10_000, l, s))\n",
    "\n",
    "\n",
    "\n",
    "\n",
    "\n",
    "\n",
    "\n"
   ]
  },
  {
   "cell_type": "code",
   "execution_count": null,
   "metadata": {},
   "outputs": [],
   "source": []
  }
 ],
 "metadata": {
  "kernelspec": {
   "display_name": "Python 3",
   "language": "python",
   "name": "python3"
  },
  "language_info": {
   "codemirror_mode": {
    "name": "ipython",
    "version": 3
   },
   "file_extension": ".py",
   "mimetype": "text/x-python",
   "name": "python",
   "nbconvert_exporter": "python",
   "pygments_lexer": "ipython3",
   "version": "3.7.2"
  }
 },
 "nbformat": 4,
 "nbformat_minor": 1
}
