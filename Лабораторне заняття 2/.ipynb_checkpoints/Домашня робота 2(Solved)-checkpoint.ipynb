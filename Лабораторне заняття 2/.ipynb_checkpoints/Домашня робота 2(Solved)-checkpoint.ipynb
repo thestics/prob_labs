{
 "cells": [
  {
   "cell_type": "markdown",
   "metadata": {},
   "source": [
    "# Домашня робота №2"
   ]
  },
  {
   "cell_type": "markdown",
   "metadata": {},
   "source": [
    "## 1 Пароль\n",
    "Напишіть програму (функцію) для генерування випадкового пароля з такими обмеженнями:\n",
    "- пароль складається з рівно $10$ символів\n",
    "- пароль містить хоча б одну маленьку латинську літеру [a-z]\n",
    "- пароль містить хоча б одну велику латинську літеру [A-Z]\n",
    "- пароль містить хоча б одну цифру [0-9]\n",
    "- пароль містить хоча б один спеціальний символ [~!@#$%^&*()-_+=\\/{}[].,?<>:;]"
   ]
  },
  {
   "cell_type": "code",
   "execution_count": 24,
   "metadata": {},
   "outputs": [
    {
     "data": {
      "text/plain": [
       "'p&%nnyXC4B'"
      ]
     },
     "execution_count": 24,
     "metadata": {},
     "output_type": "execute_result"
    }
   ],
   "source": [
    "import string\n",
    "import numpy as np\n",
    "\n",
    "digits = ''.join(map(str, range(10)))\n",
    "\n",
    "src = string.ascii_lowercase + string.ascii_uppercase + digits + '~!@#$%^&*()-_+=/{}[].,?<>:;'\n",
    "\n",
    "psw = list(np.random.choice(list(src), 10))\n",
    "psw = ''.join(psw)\n",
    "psw"
   ]
  },
  {
   "cell_type": "markdown",
   "metadata": {},
   "source": [
    "## 2 Герби в ряд\n",
    "Реалізуйте функцію для обчислення емпіричної та теоретичної імовірностей випадіння $k$ гербів (HEADS) підряд у серії з $n$ підкидань чесної монетки. Підрахуйте відповідні ймовірності для таких параметрів:\n",
    "- $k = 2, n = 10, 50, 100, 500, 1000, 5000, 10000$\n",
    "- $k = 3, n = 10, 50, 100, 500, 1000, 5000, 10000$\n",
    "\n",
    "**Зауваження.** Нехай $k = 2, n = 10$ та маємо таку послідовність результатів підкидання монети: $\\{ H, T, H, H, H, H, T, T, H, T \\}$. Тоді матимемо $3$ випадки випадіння двох гербів підряд та емпіричну ймовірність такої події $1/3$."
   ]
  },
  {
   "cell_type": "code",
   "execution_count": 36,
   "metadata": {},
   "outputs": [
    {
     "name": "stdout",
     "output_type": "stream",
     "text": [
      "n: 10, k: 2, prob: 0.3333333333333333, theor: 0.25\n",
      "n: 50, k: 2, prob: 0.20408163265306123, theor: 0.25\n",
      "n: 100, k: 2, prob: 0.2222222222222222, theor: 0.25\n",
      "n: 500, k: 2, prob: 0.23446893787575152, theor: 0.25\n",
      "n: 1000, k: 2, prob: 0.26226226226226224, theor: 0.25\n",
      "n: 5000, k: 2, prob: 0.25625125025005, theor: 0.25\n",
      "n: 10000, k: 2, prob: 0.2548254825482548, theor: 0.25\n",
      "n: 100000, k: 2, prob: 0.25067250672506725, theor: 0.25\n",
      "\n",
      "\n",
      "\n",
      "n: 10, k: 3, prob: 0.0, theor: 0.125\n",
      "n: 50, k: 3, prob: 0.08333333333333333, theor: 0.125\n",
      "n: 100, k: 3, prob: 0.061224489795918366, theor: 0.125\n",
      "n: 500, k: 3, prob: 0.13253012048192772, theor: 0.125\n",
      "n: 1000, k: 3, prob: 0.11823647294589178, theor: 0.125\n",
      "n: 5000, k: 3, prob: 0.1090436174469788, theor: 0.125\n",
      "n: 10000, k: 3, prob: 0.1248249649929986, theor: 0.125\n",
      "n: 100000, k: 3, prob: 0.12251245024900498, theor: 0.125\n",
      "\n",
      "\n",
      "\n"
     ]
    }
   ],
   "source": [
    "def test1(n, k):\n",
    "    pairsAmt = n - k + 1\n",
    "    amt = 0\n",
    "    src = ['H', 'T']\n",
    "    data = ''.join(list(np.random.choice(src, n)))\n",
    "    for i in range(len(data) - k):\n",
    "        if data[i:i + k] == 'H' * k:\n",
    "            amt += 1\n",
    "    return amt / pairsAmt\n",
    "    \n",
    "def theor1(n, k):\n",
    "    return 1 / (1 << k)\n",
    "\n",
    "nVals = (10,50,100,500,1000,5000,10000, 100_000)\n",
    "kVals = (2, 3)\n",
    "    \n",
    "for k in kVals:\n",
    "    for n in nVals:\n",
    "        res = test1(n, k)\n",
    "        tRes = theor1(n, k)\n",
    "        print(f\"n: {n}, k: {k}, prob: {res}, theor: {tRes}\")\n",
    "    print('\\n\\n')\n",
    "\n",
    "\n",
    "\n"
   ]
  },
  {
   "cell_type": "markdown",
   "metadata": {},
   "source": [
    "## 3 Найбільше число\n",
    "Реалізуйте функцію підрахунку точної (теоретичної) імовірності того, що максимальне число після $n$ кидків звичайного грального кубика дорівнює $x\\_max$, для таких параметрів:\n",
    "- $n = 3, x\\_max = 6$\n",
    "- $n = 2, x\\_max = 3$\n",
    "- $n = 3, x\\_max = 5$\n",
    "\n",
    "Тобто, якщо $X_i, i = 1, \\ldots, n$, - число на $i$-му кидку кубика, а $X = \\max\\limits_{1 \\leq i \\leq n} X_i$, то потрібно знайти ймовірність $\\textbf{P} \\left( X = x\\_max \\right)$.\n",
    "\n",
    "Підрахуйте також емпіричні ймовірності відповідних подій у випадку $10000$ симуляцій.\n",
    "\n",
    "**Зауваження.** Якщо введені параметри не мають сенсу, то повертати $0$.\n",
    "Тобто, якщо вводиться $x\\_max < 1$ або $x\\_max > 6$."
   ]
  },
  {
   "cell_type": "code",
   "execution_count": 44,
   "metadata": {},
   "outputs": [
    {
     "name": "stdout",
     "output_type": "stream",
     "text": [
      "n: 5, MaxVal: 1, test: 0.0, theor: 0.0001286008230452675\n",
      "n: 10, MaxVal: 1, test: 0.0, theor: 1.65381716879202e-08\n",
      "n: 20, MaxVal: 1, test: 0.0, theor: 2.7351112277912534e-16\n",
      "n: 50, MaxVal: 1, test: 0.0, theor: 1.2371930760744284e-39\n",
      "n: 100, MaxVal: 1, test: 0.0, theor: 1.5306467074865063e-78\n",
      "n: 5, MaxVal: 2, test: 0.0, theor: 0.00205761316872428\n",
      "n: 10, MaxVal: 2, test: 0.0, theor: 8.467543904215143e-06\n",
      "n: 20, MaxVal: 2, test: 0.0, theor: 1.4339859953962207e-10\n",
      "n: 50, MaxVal: 2, test: 0.0, theor: 6.964777845492692e-25\n",
      "n: 100, MaxVal: 2, test: 0.0, theor: 9.701626087413164e-49\n",
      "n: 5, MaxVal: 3, test: 0.0, theor: 0.010416666666666666\n",
      "n: 10, MaxVal: 3, test: 0.0, theor: 0.0003255208333333333\n",
      "n: 20, MaxVal: 3, test: 0.0, theor: 3.178914388020833e-07\n",
      "n: 50, MaxVal: 3, test: 0.0, theor: 2.9605947323337506e-16\n",
      "n: 100, MaxVal: 3, test: 0.0, theor: 2.629536350736706e-31\n",
      "n: 5, MaxVal: 4, test: 0.2, theor: 0.03292181069958848\n",
      "n: 10, MaxVal: 4, test: 0.0, theor: 0.004335382478958153\n",
      "n: 20, MaxVal: 4, test: 0.0, theor: 7.518216495542937e-05\n",
      "n: 50, MaxVal: 4, test: 0.0, theor: 3.920821363709897e-10\n",
      "n: 100, MaxVal: 4, test: 0.0, theor: 6.149136066449573e-19\n",
      "n: 5, MaxVal: 5, test: 0.4, theor: 0.08037551440329219\n",
      "n: 10, MaxVal: 5, test: 0.0, theor: 0.03230111657796914\n",
      "n: 20, MaxVal: 5, test: 0.0, theor: 0.0052168106609177655\n",
      "n: 50, MaxVal: 5, test: 0.0, theor: 2.1976963823434452e-05\n",
      "n: 100, MaxVal: 5, test: 0.0, theor: 2.4149346944827333e-09\n",
      "n: 5, MaxVal: 6, test: 0.6, theor: 0.16666666666666666\n",
      "n: 10, MaxVal: 6, test: 0.9, theor: 0.16666666666666666\n",
      "n: 20, MaxVal: 6, test: 1.0, theor: 0.16666666666666666\n",
      "n: 50, MaxVal: 6, test: 1.0, theor: 0.16666666666666666\n",
      "n: 100, MaxVal: 6, test: 1.0, theor: 0.16666666666666666\n"
     ]
    }
   ],
   "source": [
    "def theor2(n, xMax):\n",
    "    return xMax ** (n - 1) / 6 ** n\n",
    "    \n",
    "    \n",
    "def test2(n, xMax):\n",
    "    cases = list(range(1, 7))\n",
    "    amt = 0\n",
    "    for i in range(n):\n",
    "        sample = np.random.choice(cases, n)\n",
    "        if max(sample) == xMax:\n",
    "            amt += 1\n",
    "    return amt/(n)\n",
    "\n",
    "\n",
    "nVals = (5, 10, 20, 50, 100)\n",
    "xMaxVals = (range(1, 7))\n",
    "for v in xMaxVals:\n",
    "    for n in nVals:\n",
    "        t = theor2(n, v)\n",
    "        e = test2(n, v)\n",
    "        print(f\"n: {n}, MaxVal: {v}, test: {e}, theor: {t}\")\n"
   ]
  },
  {
   "cell_type": "markdown",
   "metadata": {},
   "source": [
    "## 4 Сума чисел\n",
    "Реалізуйте функцію підрахунку точної (теоретичної) імовірності того, що сума чисел після $n$ кидків звичайного грального кубика дорівнює $s$, для таких параметрів:\n",
    "- $n = 3, s = 13$\n",
    "- $n = 2, s = 5$\n",
    "- $n = 3, s = 7$\n",
    "\n",
    "Тобто, якщо $X_i, i = 1, \\ldots, n$, - число на $i$-му кидку кубика, а $X = \\sum\\limits_{i = 1}^{n} X_i$, то потрібно знайти ймовірність $\\textbf{P} \\left( X = s \\right)$.\n",
    "\n",
    "Підрахуйте також емпіричні ймовірності відповідних подій у випадку $10000$ симуляцій.\n",
    "\n",
    "**Зауваження.** Якщо введені параметри не мають сенсу, то повертати $0$.\n",
    "Наприклад, якщо при $n = 3$ вводиться $s < 3$ або $s > 18$."
   ]
  },
  {
   "cell_type": "code",
   "execution_count": 2,
   "metadata": {},
   "outputs": [
    {
     "ename": "SyntaxError",
     "evalue": "invalid syntax (<ipython-input-2-92bface00d66>, line 8)",
     "output_type": "error",
     "traceback": [
      "\u001b[1;36m  File \u001b[1;32m\"<ipython-input-2-92bface00d66>\"\u001b[1;36m, line \u001b[1;32m8\u001b[0m\n\u001b[1;33m    if sum(sample) = s:\u001b[0m\n\u001b[1;37m                   ^\u001b[0m\n\u001b[1;31mSyntaxError\u001b[0m\u001b[1;31m:\u001b[0m invalid syntax\n"
     ]
    }
   ],
   "source": [
    "from itertools import product\n",
    "\n",
    "def test3(testAmt, n, s):\n",
    "    data = list(range(1, 7))\n",
    "    amt = 0\n",
    "    for i in range(testAmt):\n",
    "        sample = np.random.choice(data, n)\n",
    "        if sum(sample) = s:\n",
    "            amt += 1\n",
    "    return amt/testAmt\n",
    "\n",
    "# def empyric3(n, s):\n",
    "#     total = product(range(1, 7), repeat=3)\n",
    "\n",
    "\n",
    "print(product(range(1, 7), repeat=3))\n",
    "\n",
    "\n",
    "\n",
    "\n"
   ]
  },
  {
   "cell_type": "code",
   "execution_count": null,
   "metadata": {},
   "outputs": [],
   "source": []
  }
 ],
 "metadata": {
  "kernelspec": {
   "display_name": "Python 3",
   "language": "python",
   "name": "python3"
  },
  "language_info": {
   "codemirror_mode": {
    "name": "ipython",
    "version": 3
   },
   "file_extension": ".py",
   "mimetype": "text/x-python",
   "name": "python",
   "nbconvert_exporter": "python",
   "pygments_lexer": "ipython3",
   "version": "3.7.2"
  }
 },
 "nbformat": 4,
 "nbformat_minor": 1
}
