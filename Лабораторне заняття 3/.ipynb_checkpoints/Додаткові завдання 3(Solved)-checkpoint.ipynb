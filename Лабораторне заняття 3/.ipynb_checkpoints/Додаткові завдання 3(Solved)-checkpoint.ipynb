{
 "cells": [
  {
   "cell_type": "markdown",
   "metadata": {},
   "source": [
    "# Додаткові завдання №3"
   ]
  },
  {
   "cell_type": "markdown",
   "metadata": {},
   "source": [
    "## 1 Перевірка взаємної простоти двох чисел\n",
    "Реалізуйте алгоритм Евкліда для перевірки взаємної простоти двох чисел (у вигляді функції від двох аргументів).\n",
    "Виконайте друге завдання з **Домашньої роботи №3** (**Задача 1.3.14**) з використанням даної функції.\n",
    "\n",
    "\n",
    "/_Не совсем понял, как этот метод необходимо применить к предложенной задаче_/"
   ]
  },
  {
   "cell_type": "code",
   "execution_count": 6,
   "metadata": {},
   "outputs": [
    {
     "name": "stdout",
     "output_type": "stream",
     "text": [
      "1\n"
     ]
    }
   ],
   "source": [
    "def gcd(a, b):\n",
    "    if a == 0:\n",
    "        return b\n",
    "    if b == 0:\n",
    "        return a\n",
    "    return gcd(b, a%b)\n",
    "\n",
    "\n",
    "\n",
    "a = 93\n",
    "b = 247\n",
    "print(gcd(a, b))"
   ]
  },
  {
   "cell_type": "markdown",
   "metadata": {},
   "source": [
    "## 2 Аналіз функцій з класу *numpy.random*\n",
    "Проаналізуйте взаємозв'язок між функціями з класу **numpy.random**:\n",
    "- [rand](https://docs.scipy.org/doc/numpy-1.14.1/reference/generated/numpy.random.rand.html)\n",
    "- [randint](https://docs.scipy.org/doc/numpy-1.14.1/reference/generated/numpy.random.randint.html)\n",
    "- [random_integers](https://docs.scipy.org/doc/numpy-1.14.1/reference/generated/numpy.random.random_integers.html)\n",
    "- [random_sample](https://docs.scipy.org/doc/numpy-1.14.1/reference/generated/numpy.random.random_sample.html)\n",
    "- [random](https://docs.scipy.org/doc/numpy-1.14.1/reference/generated/numpy.random.random.html)\n",
    "- [ranf](https://docs.scipy.org/doc/numpy-1.14.1/reference/generated/numpy.random.ranf.html)\n",
    "- [sample](https://docs.scipy.org/doc/numpy-1.14.1/reference/generated/numpy.random.sample.html)\n",
    "- [choice](https://docs.scipy.org/doc/numpy-1.14.1/reference/generated/numpy.random.choice.html)\n",
    "- [shuffle](https://docs.scipy.org/doc/numpy-1.14.1/reference/generated/numpy.random.shuffle.html)\n",
    "- [permutation](https://docs.scipy.org/doc/numpy-1.14.1/reference/generated/numpy.random.permutation.html)"
   ]
  },
  {
   "cell_type": "markdown",
   "metadata": {
    "collapsed": true
   },
   "source": [
    "### Conclusions\n",
    "- Each function uses some sort of 'seed' to imitate the randomness\n",
    "- Random values are distributed within half-opened interval $[a; b)$\n",
    "- Functions, which purpose is to generate some kind of random value "
   ]
  },
  {
   "cell_type": "code",
   "execution_count": null,
   "metadata": {},
   "outputs": [],
   "source": []
  }
 ],
 "metadata": {
  "kernelspec": {
   "display_name": "Python 3",
   "language": "python",
   "name": "python3"
  },
  "language_info": {
   "codemirror_mode": {
    "name": "ipython",
    "version": 3
   },
   "file_extension": ".py",
   "mimetype": "text/x-python",
   "name": "python",
   "nbconvert_exporter": "python",
   "pygments_lexer": "ipython3",
   "version": "3.7.2"
  }
 },
 "nbformat": 4,
 "nbformat_minor": 1
}
