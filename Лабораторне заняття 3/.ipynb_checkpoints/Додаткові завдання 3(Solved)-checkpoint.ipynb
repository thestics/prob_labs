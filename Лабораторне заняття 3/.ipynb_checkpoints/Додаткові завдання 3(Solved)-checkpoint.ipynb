{
 "cells": [
  {
   "cell_type": "markdown",
   "metadata": {},
   "source": [
    "# Додаткові завдання №3"
   ]
  },
  {
   "cell_type": "markdown",
   "metadata": {},
   "source": [
    "## 1 Перевірка взаємної простоти двох чисел\n",
    "Реалізуйте алгоритм Евкліда для перевірки взаємної простоти двох чисел (у вигляді функції від двох аргументів).\n",
    "Виконайте друге завдання з **Домашньої роботи №3** (**Задача 1.3.14**) з використанням даної функції.\n",
    "\n",
    "\n",
    "/_Не совсем понял, как этот метод необходимо применить к предложенной задаче_/"
   ]
  },
  {
   "cell_type": "code",
   "execution_count": 3,
   "metadata": {},
   "outputs": [
    {
     "name": "stdout",
     "output_type": "stream",
     "text": [
      "n: 25, k: 5, p: 3, q: 4\n",
      "Empyric. All divisible by p: 0.0, all divisible by q: 0.011, any divisible by p:0.51\n",
      "Theoretic. All divisible by p: 0.001054018445322793, all divisible by q: 0.014906832298136646, any divisible by p:0.5043478260869565\n",
      "n: 25, k: 10, p: 3, q: 4\n",
      "Empyric. All divisible by p: 0.0, all divisible by q: 0.0, any divisible by p:0.807\n",
      "Theoretic. All divisible by p: 0.0, all divisible by q: 2.0191142818683536e-05, any divisible by p:0.8021739130434783\n"
     ]
    }
   ],
   "source": [
    "import numpy as np\n",
    "from itertools import combinations\n",
    "\n",
    "\n",
    "def gcd(a, b):\n",
    "    if a == 0:\n",
    "        return b\n",
    "    if b == 0:\n",
    "        return a\n",
    "    return gcd(b, a%b)\n",
    "\n",
    "\n",
    "def is_co_prime(a, b):\n",
    "    return gcd(a, b) == 1\n",
    "\n",
    "\n",
    "def pract2(n, k, p, q, amt):\n",
    "    amt1 = 0 # divisible by p\n",
    "    amt2 = 0 # divisible by p and q\n",
    "    amt3 = 0 # at least one divisible by p\n",
    "    for i in range(amt):\n",
    "        s = np.random.choice(range(1, n + 1), k, replace=False)\n",
    "        if all([n % p == 0 for n in s]): # if all divisible by p\n",
    "            amt1 += 1\n",
    "        if all([n % p == 0 or n % q == 0 for n in s]): # if all divisible by p or by q\n",
    "            amt2 += 1\n",
    "        if any([n % p == 0 for p in s]): # if any divisible by p\n",
    "            amt3 += 1\n",
    "    if not is_co_prime(p, q):\n",
    "        amt2 = 0\n",
    "    return amt1/amt, amt2/amt, amt3/amt\n",
    "\n",
    "\n",
    "\n",
    "def theor2(n, k, p, q):\n",
    "    sample = tuple(combinations(range(1, n + 1), k))\n",
    "    amt1 = 0 # divisible by p\n",
    "    amt2 = 0 # divisible by p and q\n",
    "    amt3 = 0 # at least one divisible by p\n",
    "    for s in sample:\n",
    "        if all([n % p == 0 for n in s]): # if all divisible by p\n",
    "            amt1 += 1\n",
    "        if all([n % p == 0 or n % q == 0 for n in s]): # if all divisible by p or by q\n",
    "            amt2 += 1\n",
    "        if any([n % p == 0 for p in s]): # if any divisible by p\n",
    "            amt3 += 1\n",
    "    size = len(sample)\n",
    "    if not is_co_prime(p, q):\n",
    "        amt2 = 0\n",
    "    return amt1/size, amt2/size, amt3/size\n",
    "    \n",
    "\n",
    "nVals = (25, 25)\n",
    "kVals = (5, 10)\n",
    "pVals = (3, 3)\n",
    "qVals = (4, 4)\n",
    "for i in range(2):\n",
    "    print(f\"n: {nVals[i]}, k: {kVals[i]}, p: {pVals[i]}, q: {qVals[i]}\")\n",
    "    s = \"{}. All divisible by p: {}, all divisible by q: {}, any divisible by p:{}\"\n",
    "    a1, a2, a3 = pract2(nVals[i], kVals[i], pVals[i], qVals[i], 1_000)\n",
    "    print(s.format(\"Empyric\", a1, a2, a3))\n",
    "    b1, b2, b3 = theor2(nVals[i], kVals[i], pVals[i], qVals[i])\n",
    "    print(s.format(\"Theoretic\", b1, b2, b3))\n"
   ]
  },
  {
   "cell_type": "markdown",
   "metadata": {},
   "source": [
    "## 2 Аналіз функцій з класу *numpy.random*\n",
    "Проаналізуйте взаємозв'язок між функціями з класу **numpy.random**:\n",
    "- [rand](https://docs.scipy.org/doc/numpy-1.14.1/reference/generated/numpy.random.rand.html)\n",
    "- [randint](https://docs.scipy.org/doc/numpy-1.14.1/reference/generated/numpy.random.randint.html)\n",
    "- [random_integers](https://docs.scipy.org/doc/numpy-1.14.1/reference/generated/numpy.random.random_integers.html)\n",
    "- [random_sample](https://docs.scipy.org/doc/numpy-1.14.1/reference/generated/numpy.random.random_sample.html)\n",
    "- [random](https://docs.scipy.org/doc/numpy-1.14.1/reference/generated/numpy.random.random.html)\n",
    "- [ranf](https://docs.scipy.org/doc/numpy-1.14.1/reference/generated/numpy.random.ranf.html)\n",
    "- [sample](https://docs.scipy.org/doc/numpy-1.14.1/reference/generated/numpy.random.sample.html)\n",
    "- [choice](https://docs.scipy.org/doc/numpy-1.14.1/reference/generated/numpy.random.choice.html)\n",
    "- [shuffle](https://docs.scipy.org/doc/numpy-1.14.1/reference/generated/numpy.random.shuffle.html)\n",
    "- [permutation](https://docs.scipy.org/doc/numpy-1.14.1/reference/generated/numpy.random.permutation.html)"
   ]
  },
  {
   "cell_type": "markdown",
   "metadata": {
    "collapsed": true
   },
   "source": [
    "### Conclusions\n",
    "- Each function uses some sort of 'seed' as initial value to imitate the randomness\n",
    "- Random values are distributed within half-opened interval $[a; b)$\n",
    "- Functions, which purpose is to generate some kind of random value, usually uses uniform distribution"
   ]
  },
  {
   "cell_type": "code",
   "execution_count": null,
   "metadata": {},
   "outputs": [],
   "source": []
  }
 ],
 "metadata": {
  "kernelspec": {
   "display_name": "Python 3",
   "language": "python",
   "name": "python3"
  },
  "language_info": {
   "codemirror_mode": {
    "name": "ipython",
    "version": 3
   },
   "file_extension": ".py",
   "mimetype": "text/x-python",
   "name": "python",
   "nbconvert_exporter": "python",
   "pygments_lexer": "ipython3",
   "version": "3.7.2"
  }
 },
 "nbformat": 4,
 "nbformat_minor": 1
}
